{
 "cells": [
  {
   "cell_type": "markdown",
   "metadata": {},
   "source": [
    "**故障轴承的模型建立与信号生成**"
   ]
  },
  {
   "cell_type": "markdown",
   "metadata": {},
   "source": [
    "&ensp;&ensp;&ensp; **建立一个五自由度轴承动力学模型，为后续信号分析和方程提取做准备。**<br>\n",
    "# 利用五自由度模型生成故障情况下的轴承响应动力学模型推导 <br>\n",
    "## 五自由度模型的构建<br>\n",
    "&ensp;&ensp;&ensp; 五自由度模型的建立根据论文[[1]](#link_ref1)中描述得到，其中包含轴承中外圈$x_p,y_p$、内圈$x_s,y_s$两个正交方向共4个自由度，以及传感器所在位置$y_b$的第五个自由度构成，具体视图如下所示：<br>\n",
    ">![fig1](./bearing5-DOF.png)\n",
    "\n",
    "&ensp;&ensp;&ensp;  因此，可以得到五自由度模型的五个动力学微分方程：<a id = \"link_function1\"></a><br>\n",
    "\n",
    "\\begin{align}\n",
    "    m_s { \\ddot x_s }  + k_s (x_s)+f_x((x_s-x_p),\\omega_s,dt) = 0 \\tag{1}\\label{YY}\\\\\n",
    "    m_s { \\ddot y_s }  + k_s (y_s)+f_y ((y_s-y_p),\\omega_s,dt) = 0 \\tag{2}\\\\\n",
    "    m_p { \\ddot x_p } + c_p { \\dot x_p }+ k_p (x_p) - f_x ((x_s-x_p),\\omega_s,dt) = 0 \\tag{3}\\\\\n",
    "    m_p { \\ddot y_p } + (c_p+c_r) { \\dot y_p }+ (k_p+k_r) (y_p) - k_r y_b-f_y( (y_s-y_p),\\omega_s,dt) = 0 \\tag{4}\\\\\n",
    "    m_r { \\ddot y_b }  + k_s (y_b - y_p)+c_r({ \\dot y_b }-{ \\dot y_p }) = 0 \\tag{5}\n",
    "\\end{align}<br>\n",
    "\n",
    "其中，方程$f_x (\\bullet,\\omega_s,dt)$用于描述各个转子在接触位置所计算得到的接触力的总和，同样是分为$x,y$两个方向：<a id = \"link_function6\"></a><br>\n",
    "\n",
    "\\begin{align}\n",
    "    f_x = k_b \\sum_{j=1}^{n_{b}}\\gamma_{j} \\delta_{j}^{1.5} cos\\phi_{j}    \\tag{6}\\label{WW}\\\\\n",
    "    f_y = k_b \\sum_{j=1}^{n_b}\\gamma_{j} \\delta_{j}^{1.5} sin\\phi_{j}      \\tag{7}\\label{WX}\n",
    "\\end{align}\n",
    "<br>\n",
    "公式\\eqref{WW}\\eqref{WX}中，$k_b$为载荷影响因子，取决于材料表面的接触集合形状以及塑性接触变形的形式；$\\gamma_{j}$为条件运算，即当$\\delta_{j}>0$时，$\\gamma_{j}=1$，否则$\\gamma_{j}=0$；同时，$\\delta_{j}^{1.5}$中1.5次方仅针对球轴承的形式；$\\phi_{j}$代表了当前转子的位置，其方程可以表示为：<a id = \"link_function8\"></a><br>\n",
    "\\begin{equation}\n",
    "    \\phi_{j} = \\frac{2\\pi(j-1)}{n_{b}}+\\omega_c dt + \\phi_{0}  \\tag{8}\\label{WXY}\n",
    "\\end{equation}<br>\n",
    "$\\omega_c$为保持架的转速，其通常可以直接通过轴的专属$\\omega_s$换算得到：$ \\omega_c = \\frac{(D_p-D_b)\\omega_s}{2D_p}$\n",
    "<br>\n",
    "<br>\n",
    "\n",
    ">![fig2](./bearing_half.png)\n",
    "\n",
    "&ensp;&ensp;&ensp; $\\delta_{j}$代表两个接触表面之间的干涉，其主要受到三个因素的影响：<br>\n",
    "&ensp;&ensp;&ensp; * 轴承座的位置<br>\n",
    "&ensp;&ensp;&ensp; * 故障区域的位置分布情况<br>\n",
    "&ensp;&ensp;&ensp; * 滚动元件的滑动<br>\n",
    "&ensp;&ensp;&ensp; 因此需要在建立干涉的方程表达的时候，需要考虑到以上三个因素：<a id = \"link_function9\"></a><br>\n",
    "\\begin{equation}\n",
    "    \\delta_{j} = (x_s-x_p)cos\\phi_{j}+(y_s-y_p)sin\\phi_{j}-c-\\beta_j C_d  \\tag{9}\\label{WXYZ}\n",
    "\\end{equation}<br>\n",
    "$\\phi_{0}$代表保持架的初始位置；$c,C_d$分别为滚子与滚道外表面的间隙和故障区域的深度。同样，考虑到滑动的影响，公式\\eqref{WXY}重建为：$$\\phi_{j} = \\frac{2\\pi(j-1)}{n_{b}}+\\omega_c dt + \\phi_{0}+(0.5-rand)\\phi_{slip}$$<br>\n",
    "相位偏差$\\phi_{slip}$可以用$\\triangle f =  \\phi_{slip}f_m$表示，$f_m$为调制频率（轴的旋转频率），$\\triangle f$为滑动频率，其大致为百分之1-2的调制频率。\n",
    "## 故障模型表征方法<br>\n",
    "&ensp;&ensp;&ensp; 故障模型的表征主要通过修改公式\\eqref{WXYZ}中的$\\beta_j$项来完成故障模型的建模，本节中暂时只考虑局部故障，先不考虑扩展剥落的表征。\n",
    "### 内外圈的故障表征方法<br>\n",
    "&ensp;&ensp;&ensp; 对于内圈和外圈故障，可以使用一个简单的分段函数来模拟轴承的滚动元件进入故障区域的情况：<a id = \"link_function10\"></a><br>\n",
    "\\begin{equation}\n",
    "    \\beta_j =\n",
    "    \\begin{cases}\n",
    "        1,  & \\text{if $\\phi_d< \\phi_j<\\phi_d+\\triangle\\phi_d$} \\\\\n",
    "        0, & \\text{Otherwise}\n",
    "    \\end{cases}  \n",
    "    \\tag{10}\n",
    "\\end{equation}<br>\n",
    ">![fig2](./bearing_fault.png)\n",
    "\n",
    "&ensp;&ensp;&ensp;对于外圈故障，$\\phi_d$为一个固定值，而对于内圈故障，$\\phi_d$可以通过$\\phi_d=\\omega_s t +\\phi_{do}$构建。<br>\n",
    "### 滚动元件的故障表征方法<br>\n",
    "&ensp;&ensp;&ensp; 为了对滚动元件的局部故障进行完整的建模，对新模型进行了更新，以模拟滚动构件中的故障。其中一个滚动元件(滚动元件k)上的局部故障区域以与滚动元件相同的速度旋转，即spin(球旋转频率)，其定义为：<br>\n",
    "\\begin{equation}\n",
    "    \\omega_{spin} = \\frac{\\omega_{s}D_p}{2D_b}(1-(\\frac{D_b}{D_p}cos\\alpha)^2)  \\tag{11}\n",
    "\\end{equation}\n",
    "<br>\n",
    "&ensp;&ensp;&ensp;对于局部故障的位置$\\phi_{s}$需要通过$\\phi_{s}=\\omega_{spin} t =\\phi_{do}$来进行定义，其中$\\phi_{do}$是局部故障的初始位置。<br>\n",
    "&ensp;&ensp;&ensp;由于轴承内外圈的接触表面曲率有所不同，所以内外圈的接触时间和深度也不同，因此干涉接触可以表示为：<br>\n",
    "\\begin{equation}\n",
    "    \\beta_j =\n",
    "    \\begin{cases}\n",
    "        0,  & \\text{if j$\\neq$k} \\\\\n",
    "        1, & \\text{if $0< \\phi_s<0+\\triangle\\phi_o$}\\\\\n",
    "        \\frac{C_{dr}+C_{di}}{C_{dr}-C_{do}},  & \\text{if $\\pi< \\phi_s<\\pi+\\triangle\\phi_i$} \\\\\n",
    "        0, & \\text{Otherwise}\n",
    "    \\end{cases}  \n",
    "    \\tag{12}\n",
    "\\end{equation}<br>\n",
    "其中$C_{di}=r_i-\\sqrt{r_i^2-x^2}$,$C_{dr}=\\frac{D_b}{2}-\\sqrt{(\\frac{D_b}{2})^2-x^2}$,$r_o=\\frac{D_p+D_b}{2}$(外圈半径),$C_{do}=r_o-\\sqrt{r_o^2-x^2}$。<br>\n",
    "&ensp;&ensp;&ensp;故障的角度宽度也将取决于故障位置的宽度：<br>\n",
    "\n",
    "\n",
    "\\begin{align}\n",
    "    \\triangle\\phi_{do} = \\frac{2x}{r_o}  (rad)  \\tag{13}\\\\\n",
    "    \\triangle\\phi_{di} = \\frac{2x}{r_i}  (rad) \\tag{14}\n",
    "\\end{align}<br>\n",
    "\n",
    ">![fig3](./ball_fault.png)"
   ]
  },
  {
   "cell_type": "markdown",
   "metadata": {},
   "source": [
    "# 2.基于动力学模型的信号生成<br>\n",
    "&ensp;&ensp;&ensp;使用符号功能计算库Sympy进行计算模拟。"
   ]
  },
  {
   "cell_type": "code",
   "execution_count": 1,
   "metadata": {},
   "outputs": [],
   "source": [
    "import sympy as sp\n",
    "from IPython.display import display, Latex\n",
    "sp.init_printing(use_unicode=True)"
   ]
  },
  {
   "cell_type": "markdown",
   "metadata": {},
   "source": [
    "## 五自由度模型的轴承外圈故障符号函数构建<br>\n",
    "&ensp;&ensp;&ensp;在对五个方程直接进行符号函数的构建前，按照前述公式[(10)](#link_function10)构建内外圈故障下的干涉方程。对于外圈故障，$\\phi_d$为一个固定值，暂时选定为0。<br>\n",
    "&ensp;&ensp;&ensp;进一步构建公式[(8)](#link_function8)中所描述的滚子的位置方程。"
   ]
  },
  {
   "cell_type": "code",
   "execution_count": 2,
   "metadata": {},
   "outputs": [
    {
     "data": {
      "text/latex": [
       "$$ \\phi_j=  \\phi_{d} + \\phi_{silp} \\left(0.5 - rand\\right) + \\frac{\\pi \\left(j - 1\\right)}{n_{b}} + \\frac{dt \\omega_{s} \\left(- D_{b} + D_{p}\\right)}{2 D_{p}}$$"
      ],
      "text/plain": [
       "<IPython.core.display.Latex object>"
      ]
     },
     "metadata": {},
     "output_type": "display_data"
    }
   ],
   "source": [
    "j,n_b,omega_c,d_t,D_p,D_b,omega_s,phi_j,phi_silp,rand= sp.symbols('j n_b omega_c dt D_p D_b omega_s phi_j phi_silp rand')\n",
    "phi_d,phi_j,phi_jsub = sp.symbols('phi_d phi_j phi_jsub')\n",
    "omega_c = (D_p-D_b)*omega_s/(2*D_p)\n",
    "phi_j = (sp.pi*(j-1))/n_b + omega_c*d_t +phi_d +(0.5-rand)*phi_silp\n",
    "display(Latex(f\"$$ \\\\phi_j=  {sp.latex(phi_j)}$$\"))"
   ]
  },
  {
   "cell_type": "code",
   "execution_count": 3,
   "metadata": {},
   "outputs": [
    {
     "data": {
      "text/latex": [
       "$$ \\beta_j = \\begin{cases} 1 & \\text{for}\\: \\phi_{d} + \\phi_{jsub} > \\phi_{d} + \\phi_{silp} \\left(0.5 - rand\\right) + \\frac{\\pi \\left(j - 1\\right)}{n_{b}} + \\frac{dt \\omega_{s} \\left(- D_{b} + D_{p}\\right)}{2 D_{p}} \\wedge \\phi_{d} < \\phi_{d} + \\phi_{silp} \\left(0.5 - rand\\right) + \\frac{\\pi \\left(j - 1\\right)}{n_{b}} + \\frac{dt \\omega_{s} \\left(- D_{b} + D_{p}\\right)}{2 D_{p}} \\\\0 & \\text{otherwise} \\end{cases}$$"
      ],
      "text/plain": [
       "<IPython.core.display.Latex object>"
      ]
     },
     "metadata": {},
     "output_type": "display_data"
    }
   ],
   "source": [
    "#phi_d = 0\n",
    "beta_j = sp.Piecewise(\n",
    "                (1,((phi_d<phi_j)&(phi_j<(phi_d+phi_jsub)))),\n",
    "                (0,True)\n",
    "                )\n",
    "display(Latex(f\"$$ \\\\beta_j = {sp.latex(beta_j)}$$\"))"
   ]
  },
  {
   "cell_type": "markdown",
   "metadata": {},
   "source": [
    "&ensp;&ensp;&ensp;进一步构建公式[(9)](#link_function9)的干涉方程，建模过程中轴承中外圈$x_p,y_p$、内圈$x_s,y_s$两个正交方向共4个自由度被定义创建，$c,C_d$同样也被直接创建。"
   ]
  },
  {
   "cell_type": "code",
   "execution_count": 4,
   "metadata": {},
   "outputs": [
    {
     "data": {
      "text/latex": [
       "$$ \\delta_j =  - C_{d} \\left(\\begin{cases} 1 & \\text{for}\\: \\phi_{d} + \\phi_{jsub} > \\phi_{d} + \\phi_{silp} \\left(0.5 - rand\\right) + \\frac{\\pi \\left(j - 1\\right)}{n_{b}} + \\frac{dt \\omega_{s} \\left(- D_{b} + D_{p}\\right)}{2 D_{p}} \\wedge \\phi_{d} < \\phi_{d} + \\phi_{silp} \\left(0.5 - rand\\right) + \\frac{\\pi \\left(j - 1\\right)}{n_{b}} + \\frac{dt \\omega_{s} \\left(- D_{b} + D_{p}\\right)}{2 D_{p}} \\\\0 & \\text{otherwise} \\end{cases}\\right) - c + \\left(- \\operatorname{x_{p}}{\\left(t \\right)} + \\operatorname{x_{s}}{\\left(t \\right)}\\right) \\cos{\\left(\\phi_{d} + \\phi_{silp} \\left(0.5 - rand\\right) + \\frac{\\pi \\left(j - 1\\right)}{n_{b}} + \\frac{dt \\omega_{s} \\left(- D_{b} + D_{p}\\right)}{2 D_{p}} \\right)} + \\left(- \\operatorname{y_{p}}{\\left(t \\right)} + \\operatorname{y_{s}}{\\left(t \\right)}\\right) \\sin{\\left(\\phi_{d} + \\phi_{silp} \\left(0.5 - rand\\right) + \\frac{\\pi \\left(j - 1\\right)}{n_{b}} + \\frac{dt \\omega_{s} \\left(- D_{b} + D_{p}\\right)}{2 D_{p}} \\right)}$$"
      ],
      "text/plain": [
       "<IPython.core.display.Latex object>"
      ]
     },
     "metadata": {},
     "output_type": "display_data"
    }
   ],
   "source": [
    "t,c,C_d= sp.symbols('t c C_d')\n",
    "x_s=sp.Function('x_s')(t)\n",
    "x_p=sp.Function('x_p')(t)\n",
    "y_s=sp.Function('y_s')(t)\n",
    "y_p=sp.Function('y_p')(t)\n",
    "delta_j = (x_s-x_p)*sp.cos(phi_j)+(y_s-y_p)*sp.sin(phi_j)-c-beta_j*C_d\n",
    "display(Latex(f\"$$ \\\\delta_j =  {sp.latex(delta_j)}$$\"))"
   ]
  },
  {
   "cell_type": "markdown",
   "metadata": {},
   "source": [
    "&ensp;&ensp;&ensp;构建公式[(6,7)](#link_function6)受力方程，同样是在x,y两个正交方向进行总受力的分析。"
   ]
  },
  {
   "cell_type": "code",
   "execution_count": 5,
   "metadata": {},
   "outputs": [
    {
     "data": {
      "text/latex": [
       "$$ \\gamma_j=  \\begin{cases} 1 & \\text{for}\\: ITE\\left(\\phi_{d} + \\phi_{jsub} > \\phi_{d} + \\phi_{silp} \\left(0.5 - rand\\right) + \\frac{\\pi \\left(j - 1\\right)}{n_{b}} + \\frac{dt \\omega_{s} \\left(- D_{b} + D_{p}\\right)}{2 D_{p}} \\wedge \\phi_{d} < \\phi_{d} + \\phi_{silp} \\left(0.5 - rand\\right) + \\frac{\\pi \\left(j - 1\\right)}{n_{b}} + \\frac{dt \\omega_{s} \\left(- D_{b} + D_{p}\\right)}{2 D_{p}}, C_{d} + c - \\left(- \\operatorname{x_{p}}{\\left(t \\right)} + \\operatorname{x_{s}}{\\left(t \\right)}\\right) \\cos{\\left(\\phi_{d} + \\phi_{silp} \\left(0.5 - rand\\right) + \\frac{\\pi \\left(j - 1\\right)}{n_{b}} + \\frac{dt \\omega_{s} \\left(- D_{b} + D_{p}\\right)}{2 D_{p}} \\right)} - \\left(- \\operatorname{y_{p}}{\\left(t \\right)} + \\operatorname{y_{s}}{\\left(t \\right)}\\right) \\sin{\\left(\\phi_{d} + \\phi_{silp} \\left(0.5 - rand\\right) + \\frac{\\pi \\left(j - 1\\right)}{n_{b}} + \\frac{dt \\omega_{s} \\left(- D_{b} + D_{p}\\right)}{2 D_{p}} \\right)} < 0, - c + \\left(- \\operatorname{x_{p}}{\\left(t \\right)} + \\operatorname{x_{s}}{\\left(t \\right)}\\right) \\cos{\\left(\\phi_{d} + \\phi_{silp} \\left(0.5 - rand\\right) + \\frac{\\pi \\left(j - 1\\right)}{n_{b}} + \\frac{dt \\omega_{s} \\left(- D_{b} + D_{p}\\right)}{2 D_{p}} \\right)} + \\left(- \\operatorname{y_{p}}{\\left(t \\right)} + \\operatorname{y_{s}}{\\left(t \\right)}\\right) \\sin{\\left(\\phi_{d} + \\phi_{silp} \\left(0.5 - rand\\right) + \\frac{\\pi \\left(j - 1\\right)}{n_{b}} + \\frac{dt \\omega_{s} \\left(- D_{b} + D_{p}\\right)}{2 D_{p}} \\right)} > 0\\right) \\\\0 & \\text{otherwise} \\end{cases}$$"
      ],
      "text/plain": [
       "<IPython.core.display.Latex object>"
      ]
     },
     "metadata": {},
     "output_type": "display_data"
    }
   ],
   "source": [
    "gamma_j = sp.Piecewise(\n",
    "                (1,delta_j>0),\n",
    "                (0,True)\n",
    "                )\n",
    "display(Latex(f\"$$ \\\\gamma_j=  {sp.latex(gamma_j)}$$\"))"
   ]
  },
  {
   "cell_type": "code",
   "execution_count": 6,
   "metadata": {},
   "outputs": [
    {
     "data": {
      "text/latex": [
       "$$   \\left(- C_{d} \\left(\\begin{cases} 1 & \\text{for}\\: \\phi_{d} + \\phi_{jsub} > \\phi_{d} + \\phi_{silp} \\left(0.5 - rand\\right) + \\frac{\\pi \\left(j - 1\\right)}{n_{b}} + \\frac{dt \\omega_{s} \\left(- D_{b} + D_{p}\\right)}{2 D_{p}} \\wedge \\phi_{d} < \\phi_{d} + \\phi_{silp} \\left(0.5 - rand\\right) + \\frac{\\pi \\left(j - 1\\right)}{n_{b}} + \\frac{dt \\omega_{s} \\left(- D_{b} + D_{p}\\right)}{2 D_{p}} \\\\0 & \\text{otherwise} \\end{cases}\\right) - c + \\left(- \\operatorname{x_{p}}{\\left(t \\right)} + \\operatorname{x_{s}}{\\left(t \\right)}\\right) \\cos{\\left(\\phi_{d} + \\phi_{silp} \\left(0.5 - rand\\right) + \\frac{\\pi \\left(j - 1\\right)}{n_{b}} + \\frac{dt \\omega_{s} \\left(- D_{b} + D_{p}\\right)}{2 D_{p}} \\right)} + \\left(- \\operatorname{y_{p}}{\\left(t \\right)} + \\operatorname{y_{s}}{\\left(t \\right)}\\right) \\sin{\\left(\\phi_{d} + \\phi_{silp} \\left(0.5 - rand\\right) + \\frac{\\pi \\left(j - 1\\right)}{n_{b}} + \\frac{dt \\omega_{s} \\left(- D_{b} + D_{p}\\right)}{2 D_{p}} \\right)}\\right)^{1.5} \\left(\\begin{cases} 1 & \\text{for}\\: ITE\\left(\\phi_{d} + \\phi_{jsub} > \\phi_{d} + \\phi_{silp} \\left(0.5 - rand\\right) + \\frac{\\pi \\left(j - 1\\right)}{n_{b}} + \\frac{dt \\omega_{s} \\left(- D_{b} + D_{p}\\right)}{2 D_{p}} \\wedge \\phi_{d} < \\phi_{d} + \\phi_{silp} \\left(0.5 - rand\\right) + \\frac{\\pi \\left(j - 1\\right)}{n_{b}} + \\frac{dt \\omega_{s} \\left(- D_{b} + D_{p}\\right)}{2 D_{p}}, C_{d} + c - \\left(- \\operatorname{x_{p}}{\\left(t \\right)} + \\operatorname{x_{s}}{\\left(t \\right)}\\right) \\cos{\\left(\\phi_{d} + \\phi_{silp} \\left(0.5 - rand\\right) + \\frac{\\pi \\left(j - 1\\right)}{n_{b}} + \\frac{dt \\omega_{s} \\left(- D_{b} + D_{p}\\right)}{2 D_{p}} \\right)} - \\left(- \\operatorname{y_{p}}{\\left(t \\right)} + \\operatorname{y_{s}}{\\left(t \\right)}\\right) \\sin{\\left(\\phi_{d} + \\phi_{silp} \\left(0.5 - rand\\right) + \\frac{\\pi \\left(j - 1\\right)}{n_{b}} + \\frac{dt \\omega_{s} \\left(- D_{b} + D_{p}\\right)}{2 D_{p}} \\right)} < 0, - c + \\left(- \\operatorname{x_{p}}{\\left(t \\right)} + \\operatorname{x_{s}}{\\left(t \\right)}\\right) \\cos{\\left(\\phi_{d} + \\phi_{silp} \\left(0.5 - rand\\right) + \\frac{\\pi \\left(j - 1\\right)}{n_{b}} + \\frac{dt \\omega_{s} \\left(- D_{b} + D_{p}\\right)}{2 D_{p}} \\right)} + \\left(- \\operatorname{y_{p}}{\\left(t \\right)} + \\operatorname{y_{s}}{\\left(t \\right)}\\right) \\sin{\\left(\\phi_{d} + \\phi_{silp} \\left(0.5 - rand\\right) + \\frac{\\pi \\left(j - 1\\right)}{n_{b}} + \\frac{dt \\omega_{s} \\left(- D_{b} + D_{p}\\right)}{2 D_{p}} \\right)} > 0\\right) \\\\0 & \\text{otherwise} \\end{cases}\\right)$$"
      ],
      "text/plain": [
       "<IPython.core.display.Latex object>"
      ]
     },
     "metadata": {},
     "output_type": "display_data"
    }
   ],
   "source": [
    "f_gamma_delta_j = gamma_j*delta_j**(1.5)\n",
    "display(Latex(f\"$$   {sp.latex(f_gamma_delta_j)}$$\"))"
   ]
  },
  {
   "cell_type": "code",
   "execution_count": 7,
   "metadata": {},
   "outputs": [
    {
     "data": {
      "text/latex": [
       "$$ \f",
       "_x =  k_{b} \\sum_{j=1}^{n_{b}} \\begin{cases} \\left(- C_{d} - c + \\left(- \\operatorname{x_{p}}{\\left(t \\right)} + \\operatorname{x_{s}}{\\left(t \\right)}\\right) \\cos{\\left(\\phi_{d} + \\phi_{silp} \\left(0.5 - rand\\right) + \\frac{\\pi \\left(j - 1\\right)}{n_{b}} + \\frac{dt \\omega_{s} \\left(- D_{b} + D_{p}\\right)}{2 D_{p}} \\right)} + \\left(- \\operatorname{y_{p}}{\\left(t \\right)} + \\operatorname{y_{s}}{\\left(t \\right)}\\right) \\sin{\\left(\\phi_{d} + \\phi_{silp} \\left(0.5 - rand\\right) + \\frac{\\pi \\left(j - 1\\right)}{n_{b}} + \\frac{dt \\omega_{s} \\left(- D_{b} + D_{p}\\right)}{2 D_{p}} \\right)}\\right)^{1.5} \\cos{\\left(\\phi_{d} + \\phi_{silp} \\left(0.5 - rand\\right) + \\frac{\\pi \\left(j - 1\\right)}{n_{b}} + \\frac{dt \\omega_{s} \\left(- D_{b} + D_{p}\\right)}{2 D_{p}} \\right)} & \\text{for}\\: \\left(\\phi_{d} + \\phi_{jsub} > \\frac{D_{p} n_{b} \\left(\\phi_{d} - \\phi_{silp} \\left(rand - 0.5\\right)\\right) + \\pi D_{p} \\left(j - 1\\right) - \\frac{dt n_{b} \\omega_{s} \\left(D_{b} - D_{p}\\right)}{2}}{D_{p} n_{b}} \\vee - c + \\left(- \\operatorname{x_{p}}{\\left(t \\right)} + \\operatorname{x_{s}}{\\left(t \\right)}\\right) \\cos{\\left(- \\frac{D_{b} dt \\omega_{s}}{2 D_{p}} + \\frac{dt \\omega_{s}}{2} + \\frac{\\pi j}{n_{b}} + \\phi_{d} - \\phi_{silp} rand + 0.5 \\phi_{silp} - \\frac{\\pi}{n_{b}} \\right)} + \\left(- \\operatorname{y_{p}}{\\left(t \\right)} + \\operatorname{y_{s}}{\\left(t \\right)}\\right) \\sin{\\left(- \\frac{D_{b} dt \\omega_{s}}{2 D_{p}} + \\frac{dt \\omega_{s}}{2} + \\frac{\\pi j}{n_{b}} + \\phi_{d} - \\phi_{silp} rand + 0.5 \\phi_{silp} - \\frac{\\pi}{n_{b}} \\right)} > 0\\right) \\wedge \\left(- c + \\left(- \\operatorname{x_{p}}{\\left(t \\right)} + \\operatorname{x_{s}}{\\left(t \\right)}\\right) \\cos{\\left(- \\frac{D_{b} dt \\omega_{s}}{2 D_{p}} + \\frac{dt \\omega_{s}}{2} + \\frac{\\pi j}{n_{b}} + \\phi_{d} - \\phi_{silp} rand + 0.5 \\phi_{silp} - \\frac{\\pi}{n_{b}} \\right)} + \\left(- \\operatorname{y_{p}}{\\left(t \\right)} + \\operatorname{y_{s}}{\\left(t \\right)}\\right) \\sin{\\left(- \\frac{D_{b} dt \\omega_{s}}{2 D_{p}} + \\frac{dt \\omega_{s}}{2} + \\frac{\\pi j}{n_{b}} + \\phi_{d} - \\phi_{silp} rand + 0.5 \\phi_{silp} - \\frac{\\pi}{n_{b}} \\right)} > 0 \\vee \\phi_{d} < \\frac{D_{p} n_{b} \\left(\\phi_{d} - \\phi_{silp} \\left(rand - 0.5\\right)\\right) + \\pi D_{p} \\left(j - 1\\right) - \\frac{dt n_{b} \\omega_{s} \\left(D_{b} - D_{p}\\right)}{2}}{D_{p} n_{b}}\\right) \\wedge \\left(\\phi_{d} \\geq \\frac{D_{p} n_{b} \\left(\\phi_{d} - \\phi_{silp} \\left(rand - 0.5\\right)\\right) + \\pi D_{p} \\left(j - 1\\right) - \\frac{dt n_{b} \\omega_{s} \\left(D_{b} - D_{p}\\right)}{2}}{D_{p} n_{b}} \\vee \\phi_{d} + \\phi_{jsub} \\leq \\frac{D_{p} n_{b} \\left(\\phi_{d} - \\phi_{silp} \\left(rand - 0.5\\right)\\right) + \\pi D_{p} \\left(j - 1\\right) - \\frac{dt n_{b} \\omega_{s} \\left(D_{b} - D_{p}\\right)}{2}}{D_{p} n_{b}} \\vee C_{d} + c + \\left(\\operatorname{x_{p}}{\\left(t \\right)} - \\operatorname{x_{s}}{\\left(t \\right)}\\right) \\cos{\\left(- \\frac{D_{b} dt \\omega_{s}}{2 D_{p}} + \\frac{dt \\omega_{s}}{2} + \\frac{\\pi j}{n_{b}} + \\phi_{d} - \\phi_{silp} rand + 0.5 \\phi_{silp} - \\frac{\\pi}{n_{b}} \\right)} + \\left(\\operatorname{y_{p}}{\\left(t \\right)} - \\operatorname{y_{s}}{\\left(t \\right)}\\right) \\sin{\\left(- \\frac{D_{b} dt \\omega_{s}}{2 D_{p}} + \\frac{dt \\omega_{s}}{2} + \\frac{\\pi j}{n_{b}} + \\phi_{d} - \\phi_{silp} rand + 0.5 \\phi_{silp} - \\frac{\\pi}{n_{b}} \\right)} < 0\\right) \\wedge \\phi_{d} + \\phi_{jsub} > \\phi_{d} + \\phi_{silp} \\left(0.5 - rand\\right) + \\frac{\\pi \\left(j - 1\\right)}{n_{b}} + \\frac{dt \\omega_{s} \\left(- D_{b} + D_{p}\\right)}{2 D_{p}} \\wedge \\phi_{d} < \\phi_{d} + \\phi_{silp} \\left(0.5 - rand\\right) + \\frac{\\pi \\left(j - 1\\right)}{n_{b}} + \\frac{dt \\omega_{s} \\left(- D_{b} + D_{p}\\right)}{2 D_{p}} \\\\0 & \\text{for}\\: \\phi_{d} + \\phi_{jsub} > \\phi_{d} + \\phi_{silp} \\left(0.5 - rand\\right) + \\frac{\\pi \\left(j - 1\\right)}{n_{b}} + \\frac{dt \\omega_{s} \\left(- D_{b} + D_{p}\\right)}{2 D_{p}} \\wedge \\phi_{d} < \\phi_{d} + \\phi_{silp} \\left(0.5 - rand\\right) + \\frac{\\pi \\left(j - 1\\right)}{n_{b}} + \\frac{dt \\omega_{s} \\left(- D_{b} + D_{p}\\right)}{2 D_{p}} \\\\\\left(- c + \\left(- \\operatorname{x_{p}}{\\left(t \\right)} + \\operatorname{x_{s}}{\\left(t \\right)}\\right) \\cos{\\left(\\phi_{d} + \\phi_{silp} \\left(0.5 - rand\\right) + \\frac{\\pi \\left(j - 1\\right)}{n_{b}} + \\frac{dt \\omega_{s} \\left(- D_{b} + D_{p}\\right)}{2 D_{p}} \\right)} + \\left(- \\operatorname{y_{p}}{\\left(t \\right)} + \\operatorname{y_{s}}{\\left(t \\right)}\\right) \\sin{\\left(\\phi_{d} + \\phi_{silp} \\left(0.5 - rand\\right) + \\frac{\\pi \\left(j - 1\\right)}{n_{b}} + \\frac{dt \\omega_{s} \\left(- D_{b} + D_{p}\\right)}{2 D_{p}} \\right)}\\right)^{1.5} \\cos{\\left(\\phi_{d} + \\phi_{silp} \\left(0.5 - rand\\right) + \\frac{\\pi \\left(j - 1\\right)}{n_{b}} + \\frac{dt \\omega_{s} \\left(- D_{b} + D_{p}\\right)}{2 D_{p}} \\right)} & \\text{for}\\: \\left(\\phi_{d} + \\phi_{jsub} > \\frac{D_{p} n_{b} \\left(\\phi_{d} - \\phi_{silp} \\left(rand - 0.5\\right)\\right) + \\pi D_{p} \\left(j - 1\\right) - \\frac{dt n_{b} \\omega_{s} \\left(D_{b} - D_{p}\\right)}{2}}{D_{p} n_{b}} \\vee - c + \\left(- \\operatorname{x_{p}}{\\left(t \\right)} + \\operatorname{x_{s}}{\\left(t \\right)}\\right) \\cos{\\left(- \\frac{D_{b} dt \\omega_{s}}{2 D_{p}} + \\frac{dt \\omega_{s}}{2} + \\frac{\\pi j}{n_{b}} + \\phi_{d} - \\phi_{silp} rand + 0.5 \\phi_{silp} - \\frac{\\pi}{n_{b}} \\right)} + \\left(- \\operatorname{y_{p}}{\\left(t \\right)} + \\operatorname{y_{s}}{\\left(t \\right)}\\right) \\sin{\\left(- \\frac{D_{b} dt \\omega_{s}}{2 D_{p}} + \\frac{dt \\omega_{s}}{2} + \\frac{\\pi j}{n_{b}} + \\phi_{d} - \\phi_{silp} rand + 0.5 \\phi_{silp} - \\frac{\\pi}{n_{b}} \\right)} > 0\\right) \\wedge \\left(- c + \\left(- \\operatorname{x_{p}}{\\left(t \\right)} + \\operatorname{x_{s}}{\\left(t \\right)}\\right) \\cos{\\left(- \\frac{D_{b} dt \\omega_{s}}{2 D_{p}} + \\frac{dt \\omega_{s}}{2} + \\frac{\\pi j}{n_{b}} + \\phi_{d} - \\phi_{silp} rand + 0.5 \\phi_{silp} - \\frac{\\pi}{n_{b}} \\right)} + \\left(- \\operatorname{y_{p}}{\\left(t \\right)} + \\operatorname{y_{s}}{\\left(t \\right)}\\right) \\sin{\\left(- \\frac{D_{b} dt \\omega_{s}}{2 D_{p}} + \\frac{dt \\omega_{s}}{2} + \\frac{\\pi j}{n_{b}} + \\phi_{d} - \\phi_{silp} rand + 0.5 \\phi_{silp} - \\frac{\\pi}{n_{b}} \\right)} > 0 \\vee \\phi_{d} < \\frac{D_{p} n_{b} \\left(\\phi_{d} - \\phi_{silp} \\left(rand - 0.5\\right)\\right) + \\pi D_{p} \\left(j - 1\\right) - \\frac{dt n_{b} \\omega_{s} \\left(D_{b} - D_{p}\\right)}{2}}{D_{p} n_{b}}\\right) \\wedge \\left(\\phi_{d} \\geq \\frac{D_{p} n_{b} \\left(\\phi_{d} - \\phi_{silp} \\left(rand - 0.5\\right)\\right) + \\pi D_{p} \\left(j - 1\\right) - \\frac{dt n_{b} \\omega_{s} \\left(D_{b} - D_{p}\\right)}{2}}{D_{p} n_{b}} \\vee \\phi_{d} + \\phi_{jsub} \\leq \\frac{D_{p} n_{b} \\left(\\phi_{d} - \\phi_{silp} \\left(rand - 0.5\\right)\\right) + \\pi D_{p} \\left(j - 1\\right) - \\frac{dt n_{b} \\omega_{s} \\left(D_{b} - D_{p}\\right)}{2}}{D_{p} n_{b}} \\vee C_{d} + c + \\left(\\operatorname{x_{p}}{\\left(t \\right)} - \\operatorname{x_{s}}{\\left(t \\right)}\\right) \\cos{\\left(- \\frac{D_{b} dt \\omega_{s}}{2 D_{p}} + \\frac{dt \\omega_{s}}{2} + \\frac{\\pi j}{n_{b}} + \\phi_{d} - \\phi_{silp} rand + 0.5 \\phi_{silp} - \\frac{\\pi}{n_{b}} \\right)} + \\left(\\operatorname{y_{p}}{\\left(t \\right)} - \\operatorname{y_{s}}{\\left(t \\right)}\\right) \\sin{\\left(- \\frac{D_{b} dt \\omega_{s}}{2 D_{p}} + \\frac{dt \\omega_{s}}{2} + \\frac{\\pi j}{n_{b}} + \\phi_{d} - \\phi_{silp} rand + 0.5 \\phi_{silp} - \\frac{\\pi}{n_{b}} \\right)} < 0\\right) \\\\0 & \\text{otherwise} \\end{cases}$$"
      ],
      "text/plain": [
       "<IPython.core.display.Latex object>"
      ]
     },
     "metadata": {},
     "output_type": "display_data"
    }
   ],
   "source": [
    "k_b= sp.symbols('k_b')\n",
    "f_x = k_b*sp.summation(f_gamma_delta_j*sp.cos(phi_j),(j,1,n_b))\n",
    "display(Latex(f\"$$ \\f_x =  {sp.latex(f_x)}$$\"))"
   ]
  },
  {
   "cell_type": "code",
   "execution_count": 8,
   "metadata": {},
   "outputs": [
    {
     "data": {
      "text/latex": [
       "$$ \f",
       "_y =  k_{b} \\sum_{j=1}^{n_{b}} \\begin{cases} \\left(- C_{d} - c + \\left(- \\operatorname{x_{p}}{\\left(t \\right)} + \\operatorname{x_{s}}{\\left(t \\right)}\\right) \\cos{\\left(\\phi_{d} + \\phi_{silp} \\left(0.5 - rand\\right) + \\frac{\\pi \\left(j - 1\\right)}{n_{b}} + \\frac{dt \\omega_{s} \\left(- D_{b} + D_{p}\\right)}{2 D_{p}} \\right)} + \\left(- \\operatorname{y_{p}}{\\left(t \\right)} + \\operatorname{y_{s}}{\\left(t \\right)}\\right) \\sin{\\left(\\phi_{d} + \\phi_{silp} \\left(0.5 - rand\\right) + \\frac{\\pi \\left(j - 1\\right)}{n_{b}} + \\frac{dt \\omega_{s} \\left(- D_{b} + D_{p}\\right)}{2 D_{p}} \\right)}\\right)^{1.5} \\sin{\\left(\\phi_{d} + \\phi_{silp} \\left(0.5 - rand\\right) + \\frac{\\pi \\left(j - 1\\right)}{n_{b}} + \\frac{dt \\omega_{s} \\left(- D_{b} + D_{p}\\right)}{2 D_{p}} \\right)} & \\text{for}\\: \\left(\\phi_{d} + \\phi_{jsub} > \\frac{D_{p} n_{b} \\left(\\phi_{d} - \\phi_{silp} \\left(rand - 0.5\\right)\\right) + \\pi D_{p} \\left(j - 1\\right) - \\frac{dt n_{b} \\omega_{s} \\left(D_{b} - D_{p}\\right)}{2}}{D_{p} n_{b}} \\vee - c + \\left(- \\operatorname{x_{p}}{\\left(t \\right)} + \\operatorname{x_{s}}{\\left(t \\right)}\\right) \\cos{\\left(- \\frac{D_{b} dt \\omega_{s}}{2 D_{p}} + \\frac{dt \\omega_{s}}{2} + \\frac{\\pi j}{n_{b}} + \\phi_{d} - \\phi_{silp} rand + 0.5 \\phi_{silp} - \\frac{\\pi}{n_{b}} \\right)} + \\left(- \\operatorname{y_{p}}{\\left(t \\right)} + \\operatorname{y_{s}}{\\left(t \\right)}\\right) \\sin{\\left(- \\frac{D_{b} dt \\omega_{s}}{2 D_{p}} + \\frac{dt \\omega_{s}}{2} + \\frac{\\pi j}{n_{b}} + \\phi_{d} - \\phi_{silp} rand + 0.5 \\phi_{silp} - \\frac{\\pi}{n_{b}} \\right)} > 0\\right) \\wedge \\left(- c + \\left(- \\operatorname{x_{p}}{\\left(t \\right)} + \\operatorname{x_{s}}{\\left(t \\right)}\\right) \\cos{\\left(- \\frac{D_{b} dt \\omega_{s}}{2 D_{p}} + \\frac{dt \\omega_{s}}{2} + \\frac{\\pi j}{n_{b}} + \\phi_{d} - \\phi_{silp} rand + 0.5 \\phi_{silp} - \\frac{\\pi}{n_{b}} \\right)} + \\left(- \\operatorname{y_{p}}{\\left(t \\right)} + \\operatorname{y_{s}}{\\left(t \\right)}\\right) \\sin{\\left(- \\frac{D_{b} dt \\omega_{s}}{2 D_{p}} + \\frac{dt \\omega_{s}}{2} + \\frac{\\pi j}{n_{b}} + \\phi_{d} - \\phi_{silp} rand + 0.5 \\phi_{silp} - \\frac{\\pi}{n_{b}} \\right)} > 0 \\vee \\phi_{d} < \\frac{D_{p} n_{b} \\left(\\phi_{d} - \\phi_{silp} \\left(rand - 0.5\\right)\\right) + \\pi D_{p} \\left(j - 1\\right) - \\frac{dt n_{b} \\omega_{s} \\left(D_{b} - D_{p}\\right)}{2}}{D_{p} n_{b}}\\right) \\wedge \\left(\\phi_{d} \\geq \\frac{D_{p} n_{b} \\left(\\phi_{d} - \\phi_{silp} \\left(rand - 0.5\\right)\\right) + \\pi D_{p} \\left(j - 1\\right) - \\frac{dt n_{b} \\omega_{s} \\left(D_{b} - D_{p}\\right)}{2}}{D_{p} n_{b}} \\vee \\phi_{d} + \\phi_{jsub} \\leq \\frac{D_{p} n_{b} \\left(\\phi_{d} - \\phi_{silp} \\left(rand - 0.5\\right)\\right) + \\pi D_{p} \\left(j - 1\\right) - \\frac{dt n_{b} \\omega_{s} \\left(D_{b} - D_{p}\\right)}{2}}{D_{p} n_{b}} \\vee C_{d} + c + \\left(\\operatorname{x_{p}}{\\left(t \\right)} - \\operatorname{x_{s}}{\\left(t \\right)}\\right) \\cos{\\left(- \\frac{D_{b} dt \\omega_{s}}{2 D_{p}} + \\frac{dt \\omega_{s}}{2} + \\frac{\\pi j}{n_{b}} + \\phi_{d} - \\phi_{silp} rand + 0.5 \\phi_{silp} - \\frac{\\pi}{n_{b}} \\right)} + \\left(\\operatorname{y_{p}}{\\left(t \\right)} - \\operatorname{y_{s}}{\\left(t \\right)}\\right) \\sin{\\left(- \\frac{D_{b} dt \\omega_{s}}{2 D_{p}} + \\frac{dt \\omega_{s}}{2} + \\frac{\\pi j}{n_{b}} + \\phi_{d} - \\phi_{silp} rand + 0.5 \\phi_{silp} - \\frac{\\pi}{n_{b}} \\right)} < 0\\right) \\wedge \\phi_{d} + \\phi_{jsub} > \\phi_{d} + \\phi_{silp} \\left(0.5 - rand\\right) + \\frac{\\pi \\left(j - 1\\right)}{n_{b}} + \\frac{dt \\omega_{s} \\left(- D_{b} + D_{p}\\right)}{2 D_{p}} \\wedge \\phi_{d} < \\phi_{d} + \\phi_{silp} \\left(0.5 - rand\\right) + \\frac{\\pi \\left(j - 1\\right)}{n_{b}} + \\frac{dt \\omega_{s} \\left(- D_{b} + D_{p}\\right)}{2 D_{p}} \\\\0 & \\text{for}\\: \\phi_{d} + \\phi_{jsub} > \\phi_{d} + \\phi_{silp} \\left(0.5 - rand\\right) + \\frac{\\pi \\left(j - 1\\right)}{n_{b}} + \\frac{dt \\omega_{s} \\left(- D_{b} + D_{p}\\right)}{2 D_{p}} \\wedge \\phi_{d} < \\phi_{d} + \\phi_{silp} \\left(0.5 - rand\\right) + \\frac{\\pi \\left(j - 1\\right)}{n_{b}} + \\frac{dt \\omega_{s} \\left(- D_{b} + D_{p}\\right)}{2 D_{p}} \\\\\\left(- c + \\left(- \\operatorname{x_{p}}{\\left(t \\right)} + \\operatorname{x_{s}}{\\left(t \\right)}\\right) \\cos{\\left(\\phi_{d} + \\phi_{silp} \\left(0.5 - rand\\right) + \\frac{\\pi \\left(j - 1\\right)}{n_{b}} + \\frac{dt \\omega_{s} \\left(- D_{b} + D_{p}\\right)}{2 D_{p}} \\right)} + \\left(- \\operatorname{y_{p}}{\\left(t \\right)} + \\operatorname{y_{s}}{\\left(t \\right)}\\right) \\sin{\\left(\\phi_{d} + \\phi_{silp} \\left(0.5 - rand\\right) + \\frac{\\pi \\left(j - 1\\right)}{n_{b}} + \\frac{dt \\omega_{s} \\left(- D_{b} + D_{p}\\right)}{2 D_{p}} \\right)}\\right)^{1.5} \\sin{\\left(\\phi_{d} + \\phi_{silp} \\left(0.5 - rand\\right) + \\frac{\\pi \\left(j - 1\\right)}{n_{b}} + \\frac{dt \\omega_{s} \\left(- D_{b} + D_{p}\\right)}{2 D_{p}} \\right)} & \\text{for}\\: \\left(\\phi_{d} + \\phi_{jsub} > \\frac{D_{p} n_{b} \\left(\\phi_{d} - \\phi_{silp} \\left(rand - 0.5\\right)\\right) + \\pi D_{p} \\left(j - 1\\right) - \\frac{dt n_{b} \\omega_{s} \\left(D_{b} - D_{p}\\right)}{2}}{D_{p} n_{b}} \\vee - c + \\left(- \\operatorname{x_{p}}{\\left(t \\right)} + \\operatorname{x_{s}}{\\left(t \\right)}\\right) \\cos{\\left(- \\frac{D_{b} dt \\omega_{s}}{2 D_{p}} + \\frac{dt \\omega_{s}}{2} + \\frac{\\pi j}{n_{b}} + \\phi_{d} - \\phi_{silp} rand + 0.5 \\phi_{silp} - \\frac{\\pi}{n_{b}} \\right)} + \\left(- \\operatorname{y_{p}}{\\left(t \\right)} + \\operatorname{y_{s}}{\\left(t \\right)}\\right) \\sin{\\left(- \\frac{D_{b} dt \\omega_{s}}{2 D_{p}} + \\frac{dt \\omega_{s}}{2} + \\frac{\\pi j}{n_{b}} + \\phi_{d} - \\phi_{silp} rand + 0.5 \\phi_{silp} - \\frac{\\pi}{n_{b}} \\right)} > 0\\right) \\wedge \\left(- c + \\left(- \\operatorname{x_{p}}{\\left(t \\right)} + \\operatorname{x_{s}}{\\left(t \\right)}\\right) \\cos{\\left(- \\frac{D_{b} dt \\omega_{s}}{2 D_{p}} + \\frac{dt \\omega_{s}}{2} + \\frac{\\pi j}{n_{b}} + \\phi_{d} - \\phi_{silp} rand + 0.5 \\phi_{silp} - \\frac{\\pi}{n_{b}} \\right)} + \\left(- \\operatorname{y_{p}}{\\left(t \\right)} + \\operatorname{y_{s}}{\\left(t \\right)}\\right) \\sin{\\left(- \\frac{D_{b} dt \\omega_{s}}{2 D_{p}} + \\frac{dt \\omega_{s}}{2} + \\frac{\\pi j}{n_{b}} + \\phi_{d} - \\phi_{silp} rand + 0.5 \\phi_{silp} - \\frac{\\pi}{n_{b}} \\right)} > 0 \\vee \\phi_{d} < \\frac{D_{p} n_{b} \\left(\\phi_{d} - \\phi_{silp} \\left(rand - 0.5\\right)\\right) + \\pi D_{p} \\left(j - 1\\right) - \\frac{dt n_{b} \\omega_{s} \\left(D_{b} - D_{p}\\right)}{2}}{D_{p} n_{b}}\\right) \\wedge \\left(\\phi_{d} \\geq \\frac{D_{p} n_{b} \\left(\\phi_{d} - \\phi_{silp} \\left(rand - 0.5\\right)\\right) + \\pi D_{p} \\left(j - 1\\right) - \\frac{dt n_{b} \\omega_{s} \\left(D_{b} - D_{p}\\right)}{2}}{D_{p} n_{b}} \\vee \\phi_{d} + \\phi_{jsub} \\leq \\frac{D_{p} n_{b} \\left(\\phi_{d} - \\phi_{silp} \\left(rand - 0.5\\right)\\right) + \\pi D_{p} \\left(j - 1\\right) - \\frac{dt n_{b} \\omega_{s} \\left(D_{b} - D_{p}\\right)}{2}}{D_{p} n_{b}} \\vee C_{d} + c + \\left(\\operatorname{x_{p}}{\\left(t \\right)} - \\operatorname{x_{s}}{\\left(t \\right)}\\right) \\cos{\\left(- \\frac{D_{b} dt \\omega_{s}}{2 D_{p}} + \\frac{dt \\omega_{s}}{2} + \\frac{\\pi j}{n_{b}} + \\phi_{d} - \\phi_{silp} rand + 0.5 \\phi_{silp} - \\frac{\\pi}{n_{b}} \\right)} + \\left(\\operatorname{y_{p}}{\\left(t \\right)} - \\operatorname{y_{s}}{\\left(t \\right)}\\right) \\sin{\\left(- \\frac{D_{b} dt \\omega_{s}}{2 D_{p}} + \\frac{dt \\omega_{s}}{2} + \\frac{\\pi j}{n_{b}} + \\phi_{d} - \\phi_{silp} rand + 0.5 \\phi_{silp} - \\frac{\\pi}{n_{b}} \\right)} < 0\\right) \\\\0 & \\text{otherwise} \\end{cases}$$"
      ],
      "text/plain": [
       "<IPython.core.display.Latex object>"
      ]
     },
     "metadata": {},
     "output_type": "display_data"
    }
   ],
   "source": [
    "f_y = k_b*sp.summation(f_gamma_delta_j*sp.sin(phi_j),(j,1,n_b))\n",
    "display(Latex(f\"$$ \\f_y =  {sp.latex(f_y)}$$\"))"
   ]
  },
  {
   "cell_type": "markdown",
   "metadata": {},
   "source": [
    "&ensp;&ensp;&ensp;公式[(1-5)](#link_function1)可以被构建为如下的形式。"
   ]
  },
  {
   "cell_type": "code",
   "execution_count": 9,
   "metadata": {},
   "outputs": [
    {
     "data": {
      "text/latex": [
       "$$    k_{b} \\sum_{j=1}^{n_{b}} \\begin{cases} \\left(- C_{d} - c + \\left(- \\operatorname{x_{p}}{\\left(t \\right)} + \\operatorname{x_{s}}{\\left(t \\right)}\\right) \\cos{\\left(\\phi_{d} + \\phi_{silp} \\left(0.5 - rand\\right) + \\frac{\\pi \\left(j - 1\\right)}{n_{b}} + \\frac{dt \\omega_{s} \\left(- D_{b} + D_{p}\\right)}{2 D_{p}} \\right)} + \\left(- \\operatorname{y_{p}}{\\left(t \\right)} + \\operatorname{y_{s}}{\\left(t \\right)}\\right) \\sin{\\left(\\phi_{d} + \\phi_{silp} \\left(0.5 - rand\\right) + \\frac{\\pi \\left(j - 1\\right)}{n_{b}} + \\frac{dt \\omega_{s} \\left(- D_{b} + D_{p}\\right)}{2 D_{p}} \\right)}\\right)^{1.5} \\cos{\\left(\\phi_{d} + \\phi_{silp} \\left(0.5 - rand\\right) + \\frac{\\pi \\left(j - 1\\right)}{n_{b}} + \\frac{dt \\omega_{s} \\left(- D_{b} + D_{p}\\right)}{2 D_{p}} \\right)} & \\text{for}\\: \\left(\\phi_{d} + \\phi_{jsub} > \\frac{D_{p} n_{b} \\left(\\phi_{d} - \\phi_{silp} \\left(rand - 0.5\\right)\\right) + \\pi D_{p} \\left(j - 1\\right) - \\frac{dt n_{b} \\omega_{s} \\left(D_{b} - D_{p}\\right)}{2}}{D_{p} n_{b}} \\vee - c + \\left(- \\operatorname{x_{p}}{\\left(t \\right)} + \\operatorname{x_{s}}{\\left(t \\right)}\\right) \\cos{\\left(- \\frac{D_{b} dt \\omega_{s}}{2 D_{p}} + \\frac{dt \\omega_{s}}{2} + \\frac{\\pi j}{n_{b}} + \\phi_{d} - \\phi_{silp} rand + 0.5 \\phi_{silp} - \\frac{\\pi}{n_{b}} \\right)} + \\left(- \\operatorname{y_{p}}{\\left(t \\right)} + \\operatorname{y_{s}}{\\left(t \\right)}\\right) \\sin{\\left(- \\frac{D_{b} dt \\omega_{s}}{2 D_{p}} + \\frac{dt \\omega_{s}}{2} + \\frac{\\pi j}{n_{b}} + \\phi_{d} - \\phi_{silp} rand + 0.5 \\phi_{silp} - \\frac{\\pi}{n_{b}} \\right)} > 0\\right) \\wedge \\left(- c + \\left(- \\operatorname{x_{p}}{\\left(t \\right)} + \\operatorname{x_{s}}{\\left(t \\right)}\\right) \\cos{\\left(- \\frac{D_{b} dt \\omega_{s}}{2 D_{p}} + \\frac{dt \\omega_{s}}{2} + \\frac{\\pi j}{n_{b}} + \\phi_{d} - \\phi_{silp} rand + 0.5 \\phi_{silp} - \\frac{\\pi}{n_{b}} \\right)} + \\left(- \\operatorname{y_{p}}{\\left(t \\right)} + \\operatorname{y_{s}}{\\left(t \\right)}\\right) \\sin{\\left(- \\frac{D_{b} dt \\omega_{s}}{2 D_{p}} + \\frac{dt \\omega_{s}}{2} + \\frac{\\pi j}{n_{b}} + \\phi_{d} - \\phi_{silp} rand + 0.5 \\phi_{silp} - \\frac{\\pi}{n_{b}} \\right)} > 0 \\vee \\phi_{d} < \\frac{D_{p} n_{b} \\left(\\phi_{d} - \\phi_{silp} \\left(rand - 0.5\\right)\\right) + \\pi D_{p} \\left(j - 1\\right) - \\frac{dt n_{b} \\omega_{s} \\left(D_{b} - D_{p}\\right)}{2}}{D_{p} n_{b}}\\right) \\wedge \\left(\\phi_{d} \\geq \\frac{D_{p} n_{b} \\left(\\phi_{d} - \\phi_{silp} \\left(rand - 0.5\\right)\\right) + \\pi D_{p} \\left(j - 1\\right) - \\frac{dt n_{b} \\omega_{s} \\left(D_{b} - D_{p}\\right)}{2}}{D_{p} n_{b}} \\vee \\phi_{d} + \\phi_{jsub} \\leq \\frac{D_{p} n_{b} \\left(\\phi_{d} - \\phi_{silp} \\left(rand - 0.5\\right)\\right) + \\pi D_{p} \\left(j - 1\\right) - \\frac{dt n_{b} \\omega_{s} \\left(D_{b} - D_{p}\\right)}{2}}{D_{p} n_{b}} \\vee C_{d} + c + \\left(\\operatorname{x_{p}}{\\left(t \\right)} - \\operatorname{x_{s}}{\\left(t \\right)}\\right) \\cos{\\left(- \\frac{D_{b} dt \\omega_{s}}{2 D_{p}} + \\frac{dt \\omega_{s}}{2} + \\frac{\\pi j}{n_{b}} + \\phi_{d} - \\phi_{silp} rand + 0.5 \\phi_{silp} - \\frac{\\pi}{n_{b}} \\right)} + \\left(\\operatorname{y_{p}}{\\left(t \\right)} - \\operatorname{y_{s}}{\\left(t \\right)}\\right) \\sin{\\left(- \\frac{D_{b} dt \\omega_{s}}{2 D_{p}} + \\frac{dt \\omega_{s}}{2} + \\frac{\\pi j}{n_{b}} + \\phi_{d} - \\phi_{silp} rand + 0.5 \\phi_{silp} - \\frac{\\pi}{n_{b}} \\right)} < 0\\right) \\wedge \\phi_{d} + \\phi_{jsub} > \\phi_{d} + \\phi_{silp} \\left(0.5 - rand\\right) + \\frac{\\pi \\left(j - 1\\right)}{n_{b}} + \\frac{dt \\omega_{s} \\left(- D_{b} + D_{p}\\right)}{2 D_{p}} \\wedge \\phi_{d} < \\phi_{d} + \\phi_{silp} \\left(0.5 - rand\\right) + \\frac{\\pi \\left(j - 1\\right)}{n_{b}} + \\frac{dt \\omega_{s} \\left(- D_{b} + D_{p}\\right)}{2 D_{p}} \\\\0 & \\text{for}\\: \\phi_{d} + \\phi_{jsub} > \\phi_{d} + \\phi_{silp} \\left(0.5 - rand\\right) + \\frac{\\pi \\left(j - 1\\right)}{n_{b}} + \\frac{dt \\omega_{s} \\left(- D_{b} + D_{p}\\right)}{2 D_{p}} \\wedge \\phi_{d} < \\phi_{d} + \\phi_{silp} \\left(0.5 - rand\\right) + \\frac{\\pi \\left(j - 1\\right)}{n_{b}} + \\frac{dt \\omega_{s} \\left(- D_{b} + D_{p}\\right)}{2 D_{p}} \\\\\\left(- c + \\left(- \\operatorname{x_{p}}{\\left(t \\right)} + \\operatorname{x_{s}}{\\left(t \\right)}\\right) \\cos{\\left(\\phi_{d} + \\phi_{silp} \\left(0.5 - rand\\right) + \\frac{\\pi \\left(j - 1\\right)}{n_{b}} + \\frac{dt \\omega_{s} \\left(- D_{b} + D_{p}\\right)}{2 D_{p}} \\right)} + \\left(- \\operatorname{y_{p}}{\\left(t \\right)} + \\operatorname{y_{s}}{\\left(t \\right)}\\right) \\sin{\\left(\\phi_{d} + \\phi_{silp} \\left(0.5 - rand\\right) + \\frac{\\pi \\left(j - 1\\right)}{n_{b}} + \\frac{dt \\omega_{s} \\left(- D_{b} + D_{p}\\right)}{2 D_{p}} \\right)}\\right)^{1.5} \\cos{\\left(\\phi_{d} + \\phi_{silp} \\left(0.5 - rand\\right) + \\frac{\\pi \\left(j - 1\\right)}{n_{b}} + \\frac{dt \\omega_{s} \\left(- D_{b} + D_{p}\\right)}{2 D_{p}} \\right)} & \\text{for}\\: \\left(\\phi_{d} + \\phi_{jsub} > \\frac{D_{p} n_{b} \\left(\\phi_{d} - \\phi_{silp} \\left(rand - 0.5\\right)\\right) + \\pi D_{p} \\left(j - 1\\right) - \\frac{dt n_{b} \\omega_{s} \\left(D_{b} - D_{p}\\right)}{2}}{D_{p} n_{b}} \\vee - c + \\left(- \\operatorname{x_{p}}{\\left(t \\right)} + \\operatorname{x_{s}}{\\left(t \\right)}\\right) \\cos{\\left(- \\frac{D_{b} dt \\omega_{s}}{2 D_{p}} + \\frac{dt \\omega_{s}}{2} + \\frac{\\pi j}{n_{b}} + \\phi_{d} - \\phi_{silp} rand + 0.5 \\phi_{silp} - \\frac{\\pi}{n_{b}} \\right)} + \\left(- \\operatorname{y_{p}}{\\left(t \\right)} + \\operatorname{y_{s}}{\\left(t \\right)}\\right) \\sin{\\left(- \\frac{D_{b} dt \\omega_{s}}{2 D_{p}} + \\frac{dt \\omega_{s}}{2} + \\frac{\\pi j}{n_{b}} + \\phi_{d} - \\phi_{silp} rand + 0.5 \\phi_{silp} - \\frac{\\pi}{n_{b}} \\right)} > 0\\right) \\wedge \\left(- c + \\left(- \\operatorname{x_{p}}{\\left(t \\right)} + \\operatorname{x_{s}}{\\left(t \\right)}\\right) \\cos{\\left(- \\frac{D_{b} dt \\omega_{s}}{2 D_{p}} + \\frac{dt \\omega_{s}}{2} + \\frac{\\pi j}{n_{b}} + \\phi_{d} - \\phi_{silp} rand + 0.5 \\phi_{silp} - \\frac{\\pi}{n_{b}} \\right)} + \\left(- \\operatorname{y_{p}}{\\left(t \\right)} + \\operatorname{y_{s}}{\\left(t \\right)}\\right) \\sin{\\left(- \\frac{D_{b} dt \\omega_{s}}{2 D_{p}} + \\frac{dt \\omega_{s}}{2} + \\frac{\\pi j}{n_{b}} + \\phi_{d} - \\phi_{silp} rand + 0.5 \\phi_{silp} - \\frac{\\pi}{n_{b}} \\right)} > 0 \\vee \\phi_{d} < \\frac{D_{p} n_{b} \\left(\\phi_{d} - \\phi_{silp} \\left(rand - 0.5\\right)\\right) + \\pi D_{p} \\left(j - 1\\right) - \\frac{dt n_{b} \\omega_{s} \\left(D_{b} - D_{p}\\right)}{2}}{D_{p} n_{b}}\\right) \\wedge \\left(\\phi_{d} \\geq \\frac{D_{p} n_{b} \\left(\\phi_{d} - \\phi_{silp} \\left(rand - 0.5\\right)\\right) + \\pi D_{p} \\left(j - 1\\right) - \\frac{dt n_{b} \\omega_{s} \\left(D_{b} - D_{p}\\right)}{2}}{D_{p} n_{b}} \\vee \\phi_{d} + \\phi_{jsub} \\leq \\frac{D_{p} n_{b} \\left(\\phi_{d} - \\phi_{silp} \\left(rand - 0.5\\right)\\right) + \\pi D_{p} \\left(j - 1\\right) - \\frac{dt n_{b} \\omega_{s} \\left(D_{b} - D_{p}\\right)}{2}}{D_{p} n_{b}} \\vee C_{d} + c + \\left(\\operatorname{x_{p}}{\\left(t \\right)} - \\operatorname{x_{s}}{\\left(t \\right)}\\right) \\cos{\\left(- \\frac{D_{b} dt \\omega_{s}}{2 D_{p}} + \\frac{dt \\omega_{s}}{2} + \\frac{\\pi j}{n_{b}} + \\phi_{d} - \\phi_{silp} rand + 0.5 \\phi_{silp} - \\frac{\\pi}{n_{b}} \\right)} + \\left(\\operatorname{y_{p}}{\\left(t \\right)} - \\operatorname{y_{s}}{\\left(t \\right)}\\right) \\sin{\\left(- \\frac{D_{b} dt \\omega_{s}}{2 D_{p}} + \\frac{dt \\omega_{s}}{2} + \\frac{\\pi j}{n_{b}} + \\phi_{d} - \\phi_{silp} rand + 0.5 \\phi_{silp} - \\frac{\\pi}{n_{b}} \\right)} < 0\\right) \\\\0 & \\text{otherwise} \\end{cases} + k_{s} \\operatorname{x_{s}}{\\left(t \\right)} + m_{s} \\frac{d^{2}}{d t^{2}} \\operatorname{x_{s}}{\\left(t \\right)} = 0$$"
      ],
      "text/plain": [
       "<IPython.core.display.Latex object>"
      ]
     },
     "metadata": {},
     "output_type": "display_data"
    }
   ],
   "source": [
    "k_s,k_p,k_r,c_p,c_r,m_s,m_p,m_r= sp.symbols('k_s k_p k_r c_p c_r m_s m_p m_r')\n",
    "EQ1 = sp.Eq(m_s*x_s.diff(t,t)+k_s*x_s+f_x,0)\n",
    "display(Latex(f\"$$    {sp.latex(EQ1)}$$\"))"
   ]
  },
  {
   "cell_type": "code",
   "execution_count": 10,
   "metadata": {},
   "outputs": [
    {
     "data": {
      "text/latex": [
       "$$    k_{b} \\sum_{j=1}^{n_{b}} \\begin{cases} \\left(- C_{d} - c + \\left(- \\operatorname{x_{p}}{\\left(t \\right)} + \\operatorname{x_{s}}{\\left(t \\right)}\\right) \\cos{\\left(\\phi_{d} + \\phi_{silp} \\left(0.5 - rand\\right) + \\frac{\\pi \\left(j - 1\\right)}{n_{b}} + \\frac{dt \\omega_{s} \\left(- D_{b} + D_{p}\\right)}{2 D_{p}} \\right)} + \\left(- \\operatorname{y_{p}}{\\left(t \\right)} + \\operatorname{y_{s}}{\\left(t \\right)}\\right) \\sin{\\left(\\phi_{d} + \\phi_{silp} \\left(0.5 - rand\\right) + \\frac{\\pi \\left(j - 1\\right)}{n_{b}} + \\frac{dt \\omega_{s} \\left(- D_{b} + D_{p}\\right)}{2 D_{p}} \\right)}\\right)^{1.5} \\sin{\\left(\\phi_{d} + \\phi_{silp} \\left(0.5 - rand\\right) + \\frac{\\pi \\left(j - 1\\right)}{n_{b}} + \\frac{dt \\omega_{s} \\left(- D_{b} + D_{p}\\right)}{2 D_{p}} \\right)} & \\text{for}\\: \\left(\\phi_{d} + \\phi_{jsub} > \\frac{D_{p} n_{b} \\left(\\phi_{d} - \\phi_{silp} \\left(rand - 0.5\\right)\\right) + \\pi D_{p} \\left(j - 1\\right) - \\frac{dt n_{b} \\omega_{s} \\left(D_{b} - D_{p}\\right)}{2}}{D_{p} n_{b}} \\vee - c + \\left(- \\operatorname{x_{p}}{\\left(t \\right)} + \\operatorname{x_{s}}{\\left(t \\right)}\\right) \\cos{\\left(- \\frac{D_{b} dt \\omega_{s}}{2 D_{p}} + \\frac{dt \\omega_{s}}{2} + \\frac{\\pi j}{n_{b}} + \\phi_{d} - \\phi_{silp} rand + 0.5 \\phi_{silp} - \\frac{\\pi}{n_{b}} \\right)} + \\left(- \\operatorname{y_{p}}{\\left(t \\right)} + \\operatorname{y_{s}}{\\left(t \\right)}\\right) \\sin{\\left(- \\frac{D_{b} dt \\omega_{s}}{2 D_{p}} + \\frac{dt \\omega_{s}}{2} + \\frac{\\pi j}{n_{b}} + \\phi_{d} - \\phi_{silp} rand + 0.5 \\phi_{silp} - \\frac{\\pi}{n_{b}} \\right)} > 0\\right) \\wedge \\left(- c + \\left(- \\operatorname{x_{p}}{\\left(t \\right)} + \\operatorname{x_{s}}{\\left(t \\right)}\\right) \\cos{\\left(- \\frac{D_{b} dt \\omega_{s}}{2 D_{p}} + \\frac{dt \\omega_{s}}{2} + \\frac{\\pi j}{n_{b}} + \\phi_{d} - \\phi_{silp} rand + 0.5 \\phi_{silp} - \\frac{\\pi}{n_{b}} \\right)} + \\left(- \\operatorname{y_{p}}{\\left(t \\right)} + \\operatorname{y_{s}}{\\left(t \\right)}\\right) \\sin{\\left(- \\frac{D_{b} dt \\omega_{s}}{2 D_{p}} + \\frac{dt \\omega_{s}}{2} + \\frac{\\pi j}{n_{b}} + \\phi_{d} - \\phi_{silp} rand + 0.5 \\phi_{silp} - \\frac{\\pi}{n_{b}} \\right)} > 0 \\vee \\phi_{d} < \\frac{D_{p} n_{b} \\left(\\phi_{d} - \\phi_{silp} \\left(rand - 0.5\\right)\\right) + \\pi D_{p} \\left(j - 1\\right) - \\frac{dt n_{b} \\omega_{s} \\left(D_{b} - D_{p}\\right)}{2}}{D_{p} n_{b}}\\right) \\wedge \\left(\\phi_{d} \\geq \\frac{D_{p} n_{b} \\left(\\phi_{d} - \\phi_{silp} \\left(rand - 0.5\\right)\\right) + \\pi D_{p} \\left(j - 1\\right) - \\frac{dt n_{b} \\omega_{s} \\left(D_{b} - D_{p}\\right)}{2}}{D_{p} n_{b}} \\vee \\phi_{d} + \\phi_{jsub} \\leq \\frac{D_{p} n_{b} \\left(\\phi_{d} - \\phi_{silp} \\left(rand - 0.5\\right)\\right) + \\pi D_{p} \\left(j - 1\\right) - \\frac{dt n_{b} \\omega_{s} \\left(D_{b} - D_{p}\\right)}{2}}{D_{p} n_{b}} \\vee C_{d} + c + \\left(\\operatorname{x_{p}}{\\left(t \\right)} - \\operatorname{x_{s}}{\\left(t \\right)}\\right) \\cos{\\left(- \\frac{D_{b} dt \\omega_{s}}{2 D_{p}} + \\frac{dt \\omega_{s}}{2} + \\frac{\\pi j}{n_{b}} + \\phi_{d} - \\phi_{silp} rand + 0.5 \\phi_{silp} - \\frac{\\pi}{n_{b}} \\right)} + \\left(\\operatorname{y_{p}}{\\left(t \\right)} - \\operatorname{y_{s}}{\\left(t \\right)}\\right) \\sin{\\left(- \\frac{D_{b} dt \\omega_{s}}{2 D_{p}} + \\frac{dt \\omega_{s}}{2} + \\frac{\\pi j}{n_{b}} + \\phi_{d} - \\phi_{silp} rand + 0.5 \\phi_{silp} - \\frac{\\pi}{n_{b}} \\right)} < 0\\right) \\wedge \\phi_{d} + \\phi_{jsub} > \\phi_{d} + \\phi_{silp} \\left(0.5 - rand\\right) + \\frac{\\pi \\left(j - 1\\right)}{n_{b}} + \\frac{dt \\omega_{s} \\left(- D_{b} + D_{p}\\right)}{2 D_{p}} \\wedge \\phi_{d} < \\phi_{d} + \\phi_{silp} \\left(0.5 - rand\\right) + \\frac{\\pi \\left(j - 1\\right)}{n_{b}} + \\frac{dt \\omega_{s} \\left(- D_{b} + D_{p}\\right)}{2 D_{p}} \\\\0 & \\text{for}\\: \\phi_{d} + \\phi_{jsub} > \\phi_{d} + \\phi_{silp} \\left(0.5 - rand\\right) + \\frac{\\pi \\left(j - 1\\right)}{n_{b}} + \\frac{dt \\omega_{s} \\left(- D_{b} + D_{p}\\right)}{2 D_{p}} \\wedge \\phi_{d} < \\phi_{d} + \\phi_{silp} \\left(0.5 - rand\\right) + \\frac{\\pi \\left(j - 1\\right)}{n_{b}} + \\frac{dt \\omega_{s} \\left(- D_{b} + D_{p}\\right)}{2 D_{p}} \\\\\\left(- c + \\left(- \\operatorname{x_{p}}{\\left(t \\right)} + \\operatorname{x_{s}}{\\left(t \\right)}\\right) \\cos{\\left(\\phi_{d} + \\phi_{silp} \\left(0.5 - rand\\right) + \\frac{\\pi \\left(j - 1\\right)}{n_{b}} + \\frac{dt \\omega_{s} \\left(- D_{b} + D_{p}\\right)}{2 D_{p}} \\right)} + \\left(- \\operatorname{y_{p}}{\\left(t \\right)} + \\operatorname{y_{s}}{\\left(t \\right)}\\right) \\sin{\\left(\\phi_{d} + \\phi_{silp} \\left(0.5 - rand\\right) + \\frac{\\pi \\left(j - 1\\right)}{n_{b}} + \\frac{dt \\omega_{s} \\left(- D_{b} + D_{p}\\right)}{2 D_{p}} \\right)}\\right)^{1.5} \\sin{\\left(\\phi_{d} + \\phi_{silp} \\left(0.5 - rand\\right) + \\frac{\\pi \\left(j - 1\\right)}{n_{b}} + \\frac{dt \\omega_{s} \\left(- D_{b} + D_{p}\\right)}{2 D_{p}} \\right)} & \\text{for}\\: \\left(\\phi_{d} + \\phi_{jsub} > \\frac{D_{p} n_{b} \\left(\\phi_{d} - \\phi_{silp} \\left(rand - 0.5\\right)\\right) + \\pi D_{p} \\left(j - 1\\right) - \\frac{dt n_{b} \\omega_{s} \\left(D_{b} - D_{p}\\right)}{2}}{D_{p} n_{b}} \\vee - c + \\left(- \\operatorname{x_{p}}{\\left(t \\right)} + \\operatorname{x_{s}}{\\left(t \\right)}\\right) \\cos{\\left(- \\frac{D_{b} dt \\omega_{s}}{2 D_{p}} + \\frac{dt \\omega_{s}}{2} + \\frac{\\pi j}{n_{b}} + \\phi_{d} - \\phi_{silp} rand + 0.5 \\phi_{silp} - \\frac{\\pi}{n_{b}} \\right)} + \\left(- \\operatorname{y_{p}}{\\left(t \\right)} + \\operatorname{y_{s}}{\\left(t \\right)}\\right) \\sin{\\left(- \\frac{D_{b} dt \\omega_{s}}{2 D_{p}} + \\frac{dt \\omega_{s}}{2} + \\frac{\\pi j}{n_{b}} + \\phi_{d} - \\phi_{silp} rand + 0.5 \\phi_{silp} - \\frac{\\pi}{n_{b}} \\right)} > 0\\right) \\wedge \\left(- c + \\left(- \\operatorname{x_{p}}{\\left(t \\right)} + \\operatorname{x_{s}}{\\left(t \\right)}\\right) \\cos{\\left(- \\frac{D_{b} dt \\omega_{s}}{2 D_{p}} + \\frac{dt \\omega_{s}}{2} + \\frac{\\pi j}{n_{b}} + \\phi_{d} - \\phi_{silp} rand + 0.5 \\phi_{silp} - \\frac{\\pi}{n_{b}} \\right)} + \\left(- \\operatorname{y_{p}}{\\left(t \\right)} + \\operatorname{y_{s}}{\\left(t \\right)}\\right) \\sin{\\left(- \\frac{D_{b} dt \\omega_{s}}{2 D_{p}} + \\frac{dt \\omega_{s}}{2} + \\frac{\\pi j}{n_{b}} + \\phi_{d} - \\phi_{silp} rand + 0.5 \\phi_{silp} - \\frac{\\pi}{n_{b}} \\right)} > 0 \\vee \\phi_{d} < \\frac{D_{p} n_{b} \\left(\\phi_{d} - \\phi_{silp} \\left(rand - 0.5\\right)\\right) + \\pi D_{p} \\left(j - 1\\right) - \\frac{dt n_{b} \\omega_{s} \\left(D_{b} - D_{p}\\right)}{2}}{D_{p} n_{b}}\\right) \\wedge \\left(\\phi_{d} \\geq \\frac{D_{p} n_{b} \\left(\\phi_{d} - \\phi_{silp} \\left(rand - 0.5\\right)\\right) + \\pi D_{p} \\left(j - 1\\right) - \\frac{dt n_{b} \\omega_{s} \\left(D_{b} - D_{p}\\right)}{2}}{D_{p} n_{b}} \\vee \\phi_{d} + \\phi_{jsub} \\leq \\frac{D_{p} n_{b} \\left(\\phi_{d} - \\phi_{silp} \\left(rand - 0.5\\right)\\right) + \\pi D_{p} \\left(j - 1\\right) - \\frac{dt n_{b} \\omega_{s} \\left(D_{b} - D_{p}\\right)}{2}}{D_{p} n_{b}} \\vee C_{d} + c + \\left(\\operatorname{x_{p}}{\\left(t \\right)} - \\operatorname{x_{s}}{\\left(t \\right)}\\right) \\cos{\\left(- \\frac{D_{b} dt \\omega_{s}}{2 D_{p}} + \\frac{dt \\omega_{s}}{2} + \\frac{\\pi j}{n_{b}} + \\phi_{d} - \\phi_{silp} rand + 0.5 \\phi_{silp} - \\frac{\\pi}{n_{b}} \\right)} + \\left(\\operatorname{y_{p}}{\\left(t \\right)} - \\operatorname{y_{s}}{\\left(t \\right)}\\right) \\sin{\\left(- \\frac{D_{b} dt \\omega_{s}}{2 D_{p}} + \\frac{dt \\omega_{s}}{2} + \\frac{\\pi j}{n_{b}} + \\phi_{d} - \\phi_{silp} rand + 0.5 \\phi_{silp} - \\frac{\\pi}{n_{b}} \\right)} < 0\\right) \\\\0 & \\text{otherwise} \\end{cases} + k_{s} \\operatorname{y_{s}}{\\left(t \\right)} + m_{s} \\frac{d^{2}}{d t^{2}} \\operatorname{y_{s}}{\\left(t \\right)} = 0$$"
      ],
      "text/plain": [
       "<IPython.core.display.Latex object>"
      ]
     },
     "metadata": {},
     "output_type": "display_data"
    }
   ],
   "source": [
    "EQ2 = sp.Eq(m_s*y_s.diff(t,t)+k_s*y_s+f_y,0)\n",
    "display(Latex(f\"$$    {sp.latex(EQ2)}$$\"))"
   ]
  },
  {
   "cell_type": "code",
   "execution_count": 11,
   "metadata": {},
   "outputs": [
    {
     "data": {
      "text/latex": [
       "$$    c_{p} \\frac{d}{d t} \\operatorname{x_{p}}{\\left(t \\right)} - k_{b} \\sum_{j=1}^{n_{b}} \\begin{cases} \\left(- C_{d} - c + \\left(- \\operatorname{x_{p}}{\\left(t \\right)} + \\operatorname{x_{s}}{\\left(t \\right)}\\right) \\cos{\\left(\\phi_{d} + \\phi_{silp} \\left(0.5 - rand\\right) + \\frac{\\pi \\left(j - 1\\right)}{n_{b}} + \\frac{dt \\omega_{s} \\left(- D_{b} + D_{p}\\right)}{2 D_{p}} \\right)} + \\left(- \\operatorname{y_{p}}{\\left(t \\right)} + \\operatorname{y_{s}}{\\left(t \\right)}\\right) \\sin{\\left(\\phi_{d} + \\phi_{silp} \\left(0.5 - rand\\right) + \\frac{\\pi \\left(j - 1\\right)}{n_{b}} + \\frac{dt \\omega_{s} \\left(- D_{b} + D_{p}\\right)}{2 D_{p}} \\right)}\\right)^{1.5} \\cos{\\left(\\phi_{d} + \\phi_{silp} \\left(0.5 - rand\\right) + \\frac{\\pi \\left(j - 1\\right)}{n_{b}} + \\frac{dt \\omega_{s} \\left(- D_{b} + D_{p}\\right)}{2 D_{p}} \\right)} & \\text{for}\\: \\left(\\phi_{d} + \\phi_{jsub} > \\frac{D_{p} n_{b} \\left(\\phi_{d} - \\phi_{silp} \\left(rand - 0.5\\right)\\right) + \\pi D_{p} \\left(j - 1\\right) - \\frac{dt n_{b} \\omega_{s} \\left(D_{b} - D_{p}\\right)}{2}}{D_{p} n_{b}} \\vee - c + \\left(- \\operatorname{x_{p}}{\\left(t \\right)} + \\operatorname{x_{s}}{\\left(t \\right)}\\right) \\cos{\\left(- \\frac{D_{b} dt \\omega_{s}}{2 D_{p}} + \\frac{dt \\omega_{s}}{2} + \\frac{\\pi j}{n_{b}} + \\phi_{d} - \\phi_{silp} rand + 0.5 \\phi_{silp} - \\frac{\\pi}{n_{b}} \\right)} + \\left(- \\operatorname{y_{p}}{\\left(t \\right)} + \\operatorname{y_{s}}{\\left(t \\right)}\\right) \\sin{\\left(- \\frac{D_{b} dt \\omega_{s}}{2 D_{p}} + \\frac{dt \\omega_{s}}{2} + \\frac{\\pi j}{n_{b}} + \\phi_{d} - \\phi_{silp} rand + 0.5 \\phi_{silp} - \\frac{\\pi}{n_{b}} \\right)} > 0\\right) \\wedge \\left(- c + \\left(- \\operatorname{x_{p}}{\\left(t \\right)} + \\operatorname{x_{s}}{\\left(t \\right)}\\right) \\cos{\\left(- \\frac{D_{b} dt \\omega_{s}}{2 D_{p}} + \\frac{dt \\omega_{s}}{2} + \\frac{\\pi j}{n_{b}} + \\phi_{d} - \\phi_{silp} rand + 0.5 \\phi_{silp} - \\frac{\\pi}{n_{b}} \\right)} + \\left(- \\operatorname{y_{p}}{\\left(t \\right)} + \\operatorname{y_{s}}{\\left(t \\right)}\\right) \\sin{\\left(- \\frac{D_{b} dt \\omega_{s}}{2 D_{p}} + \\frac{dt \\omega_{s}}{2} + \\frac{\\pi j}{n_{b}} + \\phi_{d} - \\phi_{silp} rand + 0.5 \\phi_{silp} - \\frac{\\pi}{n_{b}} \\right)} > 0 \\vee \\phi_{d} < \\frac{D_{p} n_{b} \\left(\\phi_{d} - \\phi_{silp} \\left(rand - 0.5\\right)\\right) + \\pi D_{p} \\left(j - 1\\right) - \\frac{dt n_{b} \\omega_{s} \\left(D_{b} - D_{p}\\right)}{2}}{D_{p} n_{b}}\\right) \\wedge \\left(\\phi_{d} \\geq \\frac{D_{p} n_{b} \\left(\\phi_{d} - \\phi_{silp} \\left(rand - 0.5\\right)\\right) + \\pi D_{p} \\left(j - 1\\right) - \\frac{dt n_{b} \\omega_{s} \\left(D_{b} - D_{p}\\right)}{2}}{D_{p} n_{b}} \\vee \\phi_{d} + \\phi_{jsub} \\leq \\frac{D_{p} n_{b} \\left(\\phi_{d} - \\phi_{silp} \\left(rand - 0.5\\right)\\right) + \\pi D_{p} \\left(j - 1\\right) - \\frac{dt n_{b} \\omega_{s} \\left(D_{b} - D_{p}\\right)}{2}}{D_{p} n_{b}} \\vee C_{d} + c + \\left(\\operatorname{x_{p}}{\\left(t \\right)} - \\operatorname{x_{s}}{\\left(t \\right)}\\right) \\cos{\\left(- \\frac{D_{b} dt \\omega_{s}}{2 D_{p}} + \\frac{dt \\omega_{s}}{2} + \\frac{\\pi j}{n_{b}} + \\phi_{d} - \\phi_{silp} rand + 0.5 \\phi_{silp} - \\frac{\\pi}{n_{b}} \\right)} + \\left(\\operatorname{y_{p}}{\\left(t \\right)} - \\operatorname{y_{s}}{\\left(t \\right)}\\right) \\sin{\\left(- \\frac{D_{b} dt \\omega_{s}}{2 D_{p}} + \\frac{dt \\omega_{s}}{2} + \\frac{\\pi j}{n_{b}} + \\phi_{d} - \\phi_{silp} rand + 0.5 \\phi_{silp} - \\frac{\\pi}{n_{b}} \\right)} < 0\\right) \\wedge \\phi_{d} + \\phi_{jsub} > \\phi_{d} + \\phi_{silp} \\left(0.5 - rand\\right) + \\frac{\\pi \\left(j - 1\\right)}{n_{b}} + \\frac{dt \\omega_{s} \\left(- D_{b} + D_{p}\\right)}{2 D_{p}} \\wedge \\phi_{d} < \\phi_{d} + \\phi_{silp} \\left(0.5 - rand\\right) + \\frac{\\pi \\left(j - 1\\right)}{n_{b}} + \\frac{dt \\omega_{s} \\left(- D_{b} + D_{p}\\right)}{2 D_{p}} \\\\0 & \\text{for}\\: \\phi_{d} + \\phi_{jsub} > \\phi_{d} + \\phi_{silp} \\left(0.5 - rand\\right) + \\frac{\\pi \\left(j - 1\\right)}{n_{b}} + \\frac{dt \\omega_{s} \\left(- D_{b} + D_{p}\\right)}{2 D_{p}} \\wedge \\phi_{d} < \\phi_{d} + \\phi_{silp} \\left(0.5 - rand\\right) + \\frac{\\pi \\left(j - 1\\right)}{n_{b}} + \\frac{dt \\omega_{s} \\left(- D_{b} + D_{p}\\right)}{2 D_{p}} \\\\\\left(- c + \\left(- \\operatorname{x_{p}}{\\left(t \\right)} + \\operatorname{x_{s}}{\\left(t \\right)}\\right) \\cos{\\left(\\phi_{d} + \\phi_{silp} \\left(0.5 - rand\\right) + \\frac{\\pi \\left(j - 1\\right)}{n_{b}} + \\frac{dt \\omega_{s} \\left(- D_{b} + D_{p}\\right)}{2 D_{p}} \\right)} + \\left(- \\operatorname{y_{p}}{\\left(t \\right)} + \\operatorname{y_{s}}{\\left(t \\right)}\\right) \\sin{\\left(\\phi_{d} + \\phi_{silp} \\left(0.5 - rand\\right) + \\frac{\\pi \\left(j - 1\\right)}{n_{b}} + \\frac{dt \\omega_{s} \\left(- D_{b} + D_{p}\\right)}{2 D_{p}} \\right)}\\right)^{1.5} \\cos{\\left(\\phi_{d} + \\phi_{silp} \\left(0.5 - rand\\right) + \\frac{\\pi \\left(j - 1\\right)}{n_{b}} + \\frac{dt \\omega_{s} \\left(- D_{b} + D_{p}\\right)}{2 D_{p}} \\right)} & \\text{for}\\: \\left(\\phi_{d} + \\phi_{jsub} > \\frac{D_{p} n_{b} \\left(\\phi_{d} - \\phi_{silp} \\left(rand - 0.5\\right)\\right) + \\pi D_{p} \\left(j - 1\\right) - \\frac{dt n_{b} \\omega_{s} \\left(D_{b} - D_{p}\\right)}{2}}{D_{p} n_{b}} \\vee - c + \\left(- \\operatorname{x_{p}}{\\left(t \\right)} + \\operatorname{x_{s}}{\\left(t \\right)}\\right) \\cos{\\left(- \\frac{D_{b} dt \\omega_{s}}{2 D_{p}} + \\frac{dt \\omega_{s}}{2} + \\frac{\\pi j}{n_{b}} + \\phi_{d} - \\phi_{silp} rand + 0.5 \\phi_{silp} - \\frac{\\pi}{n_{b}} \\right)} + \\left(- \\operatorname{y_{p}}{\\left(t \\right)} + \\operatorname{y_{s}}{\\left(t \\right)}\\right) \\sin{\\left(- \\frac{D_{b} dt \\omega_{s}}{2 D_{p}} + \\frac{dt \\omega_{s}}{2} + \\frac{\\pi j}{n_{b}} + \\phi_{d} - \\phi_{silp} rand + 0.5 \\phi_{silp} - \\frac{\\pi}{n_{b}} \\right)} > 0\\right) \\wedge \\left(- c + \\left(- \\operatorname{x_{p}}{\\left(t \\right)} + \\operatorname{x_{s}}{\\left(t \\right)}\\right) \\cos{\\left(- \\frac{D_{b} dt \\omega_{s}}{2 D_{p}} + \\frac{dt \\omega_{s}}{2} + \\frac{\\pi j}{n_{b}} + \\phi_{d} - \\phi_{silp} rand + 0.5 \\phi_{silp} - \\frac{\\pi}{n_{b}} \\right)} + \\left(- \\operatorname{y_{p}}{\\left(t \\right)} + \\operatorname{y_{s}}{\\left(t \\right)}\\right) \\sin{\\left(- \\frac{D_{b} dt \\omega_{s}}{2 D_{p}} + \\frac{dt \\omega_{s}}{2} + \\frac{\\pi j}{n_{b}} + \\phi_{d} - \\phi_{silp} rand + 0.5 \\phi_{silp} - \\frac{\\pi}{n_{b}} \\right)} > 0 \\vee \\phi_{d} < \\frac{D_{p} n_{b} \\left(\\phi_{d} - \\phi_{silp} \\left(rand - 0.5\\right)\\right) + \\pi D_{p} \\left(j - 1\\right) - \\frac{dt n_{b} \\omega_{s} \\left(D_{b} - D_{p}\\right)}{2}}{D_{p} n_{b}}\\right) \\wedge \\left(\\phi_{d} \\geq \\frac{D_{p} n_{b} \\left(\\phi_{d} - \\phi_{silp} \\left(rand - 0.5\\right)\\right) + \\pi D_{p} \\left(j - 1\\right) - \\frac{dt n_{b} \\omega_{s} \\left(D_{b} - D_{p}\\right)}{2}}{D_{p} n_{b}} \\vee \\phi_{d} + \\phi_{jsub} \\leq \\frac{D_{p} n_{b} \\left(\\phi_{d} - \\phi_{silp} \\left(rand - 0.5\\right)\\right) + \\pi D_{p} \\left(j - 1\\right) - \\frac{dt n_{b} \\omega_{s} \\left(D_{b} - D_{p}\\right)}{2}}{D_{p} n_{b}} \\vee C_{d} + c + \\left(\\operatorname{x_{p}}{\\left(t \\right)} - \\operatorname{x_{s}}{\\left(t \\right)}\\right) \\cos{\\left(- \\frac{D_{b} dt \\omega_{s}}{2 D_{p}} + \\frac{dt \\omega_{s}}{2} + \\frac{\\pi j}{n_{b}} + \\phi_{d} - \\phi_{silp} rand + 0.5 \\phi_{silp} - \\frac{\\pi}{n_{b}} \\right)} + \\left(\\operatorname{y_{p}}{\\left(t \\right)} - \\operatorname{y_{s}}{\\left(t \\right)}\\right) \\sin{\\left(- \\frac{D_{b} dt \\omega_{s}}{2 D_{p}} + \\frac{dt \\omega_{s}}{2} + \\frac{\\pi j}{n_{b}} + \\phi_{d} - \\phi_{silp} rand + 0.5 \\phi_{silp} - \\frac{\\pi}{n_{b}} \\right)} < 0\\right) \\\\0 & \\text{otherwise} \\end{cases} + k_{p} \\operatorname{x_{p}}{\\left(t \\right)} + m_{p} \\frac{d^{2}}{d t^{2}} \\operatorname{x_{p}}{\\left(t \\right)} = 0$$"
      ],
      "text/plain": [
       "<IPython.core.display.Latex object>"
      ]
     },
     "metadata": {},
     "output_type": "display_data"
    }
   ],
   "source": [
    "EQ3 = sp.Eq(m_p*x_p.diff(t,t)+c_p*x_p.diff(t)+k_p*x_p-f_x,0)\n",
    "display(Latex(f\"$$    {sp.latex(EQ3)}$$\"))"
   ]
  },
  {
   "cell_type": "code",
   "execution_count": 12,
   "metadata": {},
   "outputs": [
    {
     "data": {
      "text/latex": [
       "$$    - k_{b} \\sum_{j=1}^{n_{b}} \\begin{cases} \\left(- C_{d} - c + \\left(- \\operatorname{x_{p}}{\\left(t \\right)} + \\operatorname{x_{s}}{\\left(t \\right)}\\right) \\cos{\\left(\\phi_{d} + \\phi_{silp} \\left(0.5 - rand\\right) + \\frac{\\pi \\left(j - 1\\right)}{n_{b}} + \\frac{dt \\omega_{s} \\left(- D_{b} + D_{p}\\right)}{2 D_{p}} \\right)} + \\left(- \\operatorname{y_{p}}{\\left(t \\right)} + \\operatorname{y_{s}}{\\left(t \\right)}\\right) \\sin{\\left(\\phi_{d} + \\phi_{silp} \\left(0.5 - rand\\right) + \\frac{\\pi \\left(j - 1\\right)}{n_{b}} + \\frac{dt \\omega_{s} \\left(- D_{b} + D_{p}\\right)}{2 D_{p}} \\right)}\\right)^{1.5} \\sin{\\left(\\phi_{d} + \\phi_{silp} \\left(0.5 - rand\\right) + \\frac{\\pi \\left(j - 1\\right)}{n_{b}} + \\frac{dt \\omega_{s} \\left(- D_{b} + D_{p}\\right)}{2 D_{p}} \\right)} & \\text{for}\\: \\left(\\phi_{d} + \\phi_{jsub} > \\frac{D_{p} n_{b} \\left(\\phi_{d} - \\phi_{silp} \\left(rand - 0.5\\right)\\right) + \\pi D_{p} \\left(j - 1\\right) - \\frac{dt n_{b} \\omega_{s} \\left(D_{b} - D_{p}\\right)}{2}}{D_{p} n_{b}} \\vee - c + \\left(- \\operatorname{x_{p}}{\\left(t \\right)} + \\operatorname{x_{s}}{\\left(t \\right)}\\right) \\cos{\\left(- \\frac{D_{b} dt \\omega_{s}}{2 D_{p}} + \\frac{dt \\omega_{s}}{2} + \\frac{\\pi j}{n_{b}} + \\phi_{d} - \\phi_{silp} rand + 0.5 \\phi_{silp} - \\frac{\\pi}{n_{b}} \\right)} + \\left(- \\operatorname{y_{p}}{\\left(t \\right)} + \\operatorname{y_{s}}{\\left(t \\right)}\\right) \\sin{\\left(- \\frac{D_{b} dt \\omega_{s}}{2 D_{p}} + \\frac{dt \\omega_{s}}{2} + \\frac{\\pi j}{n_{b}} + \\phi_{d} - \\phi_{silp} rand + 0.5 \\phi_{silp} - \\frac{\\pi}{n_{b}} \\right)} > 0\\right) \\wedge \\left(- c + \\left(- \\operatorname{x_{p}}{\\left(t \\right)} + \\operatorname{x_{s}}{\\left(t \\right)}\\right) \\cos{\\left(- \\frac{D_{b} dt \\omega_{s}}{2 D_{p}} + \\frac{dt \\omega_{s}}{2} + \\frac{\\pi j}{n_{b}} + \\phi_{d} - \\phi_{silp} rand + 0.5 \\phi_{silp} - \\frac{\\pi}{n_{b}} \\right)} + \\left(- \\operatorname{y_{p}}{\\left(t \\right)} + \\operatorname{y_{s}}{\\left(t \\right)}\\right) \\sin{\\left(- \\frac{D_{b} dt \\omega_{s}}{2 D_{p}} + \\frac{dt \\omega_{s}}{2} + \\frac{\\pi j}{n_{b}} + \\phi_{d} - \\phi_{silp} rand + 0.5 \\phi_{silp} - \\frac{\\pi}{n_{b}} \\right)} > 0 \\vee \\phi_{d} < \\frac{D_{p} n_{b} \\left(\\phi_{d} - \\phi_{silp} \\left(rand - 0.5\\right)\\right) + \\pi D_{p} \\left(j - 1\\right) - \\frac{dt n_{b} \\omega_{s} \\left(D_{b} - D_{p}\\right)}{2}}{D_{p} n_{b}}\\right) \\wedge \\left(\\phi_{d} \\geq \\frac{D_{p} n_{b} \\left(\\phi_{d} - \\phi_{silp} \\left(rand - 0.5\\right)\\right) + \\pi D_{p} \\left(j - 1\\right) - \\frac{dt n_{b} \\omega_{s} \\left(D_{b} - D_{p}\\right)}{2}}{D_{p} n_{b}} \\vee \\phi_{d} + \\phi_{jsub} \\leq \\frac{D_{p} n_{b} \\left(\\phi_{d} - \\phi_{silp} \\left(rand - 0.5\\right)\\right) + \\pi D_{p} \\left(j - 1\\right) - \\frac{dt n_{b} \\omega_{s} \\left(D_{b} - D_{p}\\right)}{2}}{D_{p} n_{b}} \\vee C_{d} + c + \\left(\\operatorname{x_{p}}{\\left(t \\right)} - \\operatorname{x_{s}}{\\left(t \\right)}\\right) \\cos{\\left(- \\frac{D_{b} dt \\omega_{s}}{2 D_{p}} + \\frac{dt \\omega_{s}}{2} + \\frac{\\pi j}{n_{b}} + \\phi_{d} - \\phi_{silp} rand + 0.5 \\phi_{silp} - \\frac{\\pi}{n_{b}} \\right)} + \\left(\\operatorname{y_{p}}{\\left(t \\right)} - \\operatorname{y_{s}}{\\left(t \\right)}\\right) \\sin{\\left(- \\frac{D_{b} dt \\omega_{s}}{2 D_{p}} + \\frac{dt \\omega_{s}}{2} + \\frac{\\pi j}{n_{b}} + \\phi_{d} - \\phi_{silp} rand + 0.5 \\phi_{silp} - \\frac{\\pi}{n_{b}} \\right)} < 0\\right) \\wedge \\phi_{d} + \\phi_{jsub} > \\phi_{d} + \\phi_{silp} \\left(0.5 - rand\\right) + \\frac{\\pi \\left(j - 1\\right)}{n_{b}} + \\frac{dt \\omega_{s} \\left(- D_{b} + D_{p}\\right)}{2 D_{p}} \\wedge \\phi_{d} < \\phi_{d} + \\phi_{silp} \\left(0.5 - rand\\right) + \\frac{\\pi \\left(j - 1\\right)}{n_{b}} + \\frac{dt \\omega_{s} \\left(- D_{b} + D_{p}\\right)}{2 D_{p}} \\\\0 & \\text{for}\\: \\phi_{d} + \\phi_{jsub} > \\phi_{d} + \\phi_{silp} \\left(0.5 - rand\\right) + \\frac{\\pi \\left(j - 1\\right)}{n_{b}} + \\frac{dt \\omega_{s} \\left(- D_{b} + D_{p}\\right)}{2 D_{p}} \\wedge \\phi_{d} < \\phi_{d} + \\phi_{silp} \\left(0.5 - rand\\right) + \\frac{\\pi \\left(j - 1\\right)}{n_{b}} + \\frac{dt \\omega_{s} \\left(- D_{b} + D_{p}\\right)}{2 D_{p}} \\\\\\left(- c + \\left(- \\operatorname{x_{p}}{\\left(t \\right)} + \\operatorname{x_{s}}{\\left(t \\right)}\\right) \\cos{\\left(\\phi_{d} + \\phi_{silp} \\left(0.5 - rand\\right) + \\frac{\\pi \\left(j - 1\\right)}{n_{b}} + \\frac{dt \\omega_{s} \\left(- D_{b} + D_{p}\\right)}{2 D_{p}} \\right)} + \\left(- \\operatorname{y_{p}}{\\left(t \\right)} + \\operatorname{y_{s}}{\\left(t \\right)}\\right) \\sin{\\left(\\phi_{d} + \\phi_{silp} \\left(0.5 - rand\\right) + \\frac{\\pi \\left(j - 1\\right)}{n_{b}} + \\frac{dt \\omega_{s} \\left(- D_{b} + D_{p}\\right)}{2 D_{p}} \\right)}\\right)^{1.5} \\sin{\\left(\\phi_{d} + \\phi_{silp} \\left(0.5 - rand\\right) + \\frac{\\pi \\left(j - 1\\right)}{n_{b}} + \\frac{dt \\omega_{s} \\left(- D_{b} + D_{p}\\right)}{2 D_{p}} \\right)} & \\text{for}\\: \\left(\\phi_{d} + \\phi_{jsub} > \\frac{D_{p} n_{b} \\left(\\phi_{d} - \\phi_{silp} \\left(rand - 0.5\\right)\\right) + \\pi D_{p} \\left(j - 1\\right) - \\frac{dt n_{b} \\omega_{s} \\left(D_{b} - D_{p}\\right)}{2}}{D_{p} n_{b}} \\vee - c + \\left(- \\operatorname{x_{p}}{\\left(t \\right)} + \\operatorname{x_{s}}{\\left(t \\right)}\\right) \\cos{\\left(- \\frac{D_{b} dt \\omega_{s}}{2 D_{p}} + \\frac{dt \\omega_{s}}{2} + \\frac{\\pi j}{n_{b}} + \\phi_{d} - \\phi_{silp} rand + 0.5 \\phi_{silp} - \\frac{\\pi}{n_{b}} \\right)} + \\left(- \\operatorname{y_{p}}{\\left(t \\right)} + \\operatorname{y_{s}}{\\left(t \\right)}\\right) \\sin{\\left(- \\frac{D_{b} dt \\omega_{s}}{2 D_{p}} + \\frac{dt \\omega_{s}}{2} + \\frac{\\pi j}{n_{b}} + \\phi_{d} - \\phi_{silp} rand + 0.5 \\phi_{silp} - \\frac{\\pi}{n_{b}} \\right)} > 0\\right) \\wedge \\left(- c + \\left(- \\operatorname{x_{p}}{\\left(t \\right)} + \\operatorname{x_{s}}{\\left(t \\right)}\\right) \\cos{\\left(- \\frac{D_{b} dt \\omega_{s}}{2 D_{p}} + \\frac{dt \\omega_{s}}{2} + \\frac{\\pi j}{n_{b}} + \\phi_{d} - \\phi_{silp} rand + 0.5 \\phi_{silp} - \\frac{\\pi}{n_{b}} \\right)} + \\left(- \\operatorname{y_{p}}{\\left(t \\right)} + \\operatorname{y_{s}}{\\left(t \\right)}\\right) \\sin{\\left(- \\frac{D_{b} dt \\omega_{s}}{2 D_{p}} + \\frac{dt \\omega_{s}}{2} + \\frac{\\pi j}{n_{b}} + \\phi_{d} - \\phi_{silp} rand + 0.5 \\phi_{silp} - \\frac{\\pi}{n_{b}} \\right)} > 0 \\vee \\phi_{d} < \\frac{D_{p} n_{b} \\left(\\phi_{d} - \\phi_{silp} \\left(rand - 0.5\\right)\\right) + \\pi D_{p} \\left(j - 1\\right) - \\frac{dt n_{b} \\omega_{s} \\left(D_{b} - D_{p}\\right)}{2}}{D_{p} n_{b}}\\right) \\wedge \\left(\\phi_{d} \\geq \\frac{D_{p} n_{b} \\left(\\phi_{d} - \\phi_{silp} \\left(rand - 0.5\\right)\\right) + \\pi D_{p} \\left(j - 1\\right) - \\frac{dt n_{b} \\omega_{s} \\left(D_{b} - D_{p}\\right)}{2}}{D_{p} n_{b}} \\vee \\phi_{d} + \\phi_{jsub} \\leq \\frac{D_{p} n_{b} \\left(\\phi_{d} - \\phi_{silp} \\left(rand - 0.5\\right)\\right) + \\pi D_{p} \\left(j - 1\\right) - \\frac{dt n_{b} \\omega_{s} \\left(D_{b} - D_{p}\\right)}{2}}{D_{p} n_{b}} \\vee C_{d} + c + \\left(\\operatorname{x_{p}}{\\left(t \\right)} - \\operatorname{x_{s}}{\\left(t \\right)}\\right) \\cos{\\left(- \\frac{D_{b} dt \\omega_{s}}{2 D_{p}} + \\frac{dt \\omega_{s}}{2} + \\frac{\\pi j}{n_{b}} + \\phi_{d} - \\phi_{silp} rand + 0.5 \\phi_{silp} - \\frac{\\pi}{n_{b}} \\right)} + \\left(\\operatorname{y_{p}}{\\left(t \\right)} - \\operatorname{y_{s}}{\\left(t \\right)}\\right) \\sin{\\left(- \\frac{D_{b} dt \\omega_{s}}{2 D_{p}} + \\frac{dt \\omega_{s}}{2} + \\frac{\\pi j}{n_{b}} + \\phi_{d} - \\phi_{silp} rand + 0.5 \\phi_{silp} - \\frac{\\pi}{n_{b}} \\right)} < 0\\right) \\\\0 & \\text{otherwise} \\end{cases} - k_{r} \\operatorname{y_{b}}{\\left(t \\right)} + m_{p} \\frac{d^{2}}{d t^{2}} \\operatorname{y_{p}}{\\left(t \\right)} + \\left(c_{p} + c_{r}\\right) \\frac{d}{d t} \\operatorname{y_{p}}{\\left(t \\right)} + \\left(k_{p} + k_{r}\\right) \\operatorname{y_{p}}{\\left(t \\right)} = 0$$"
      ],
      "text/plain": [
       "<IPython.core.display.Latex object>"
      ]
     },
     "metadata": {},
     "output_type": "display_data"
    }
   ],
   "source": [
    "y_b=sp.Function('y_b')(t)\n",
    "EQ4 = sp.Eq(m_p*y_p.diff(t,t)+(c_p+c_r)*y_p.diff(t)+(k_r+k_p)*y_p-k_r*y_b-f_y,0)\n",
    "display(Latex(f\"$$    {sp.latex(EQ4)}$$\"))"
   ]
  },
  {
   "cell_type": "code",
   "execution_count": 13,
   "metadata": {},
   "outputs": [
    {
     "data": {
      "text/latex": [
       "$$    c_{r} \\left(\\frac{d}{d t} \\operatorname{y_{b}}{\\left(t \\right)} - \\frac{d}{d t} \\operatorname{y_{p}}{\\left(t \\right)}\\right) + k_{s} \\left(\\operatorname{y_{b}}{\\left(t \\right)} - \\operatorname{y_{p}}{\\left(t \\right)}\\right) + m_{r} \\frac{d^{2}}{d t^{2}} \\operatorname{y_{b}}{\\left(t \\right)} = 0$$"
      ],
      "text/plain": [
       "<IPython.core.display.Latex object>"
      ]
     },
     "metadata": {},
     "output_type": "display_data"
    }
   ],
   "source": [
    "EQ5 = sp.Eq(m_r*y_b.diff(t,t)+c_r*(y_b.diff(t)-y_p.diff(t))+k_s*(y_b-y_p),0)\n",
    "display(Latex(f\"$$    {sp.latex(EQ5)}$$\"))"
   ]
  },
  {
   "cell_type": "markdown",
   "metadata": {},
   "source": [
    "## 五自由度模型的轴承外圈故障参数导入与求解<br>\n",
    "&ensp;&ensp;&ensp;第一步，确定除变量以外的所有参数。<br>\n",
    "&ensp;&ensp;&ensp;$m_p = 12.638(kg)$,     $k_p = 1.51056\\times10^7(N/m)$, $c_p = 2210.7(Ns/m)$,<br>\n",
    "&ensp;&ensp;&ensp;$m_r = 1.0000(kg)$,     $k_r = 8.88260\\times10^9(N/m)$, $c_r = 9424.8(Ns/m)$,<br>\n",
    "&ensp;&ensp;&ensp;$m_s=0.5134(kg)$,       $k_s = 4.24100\\times10^4(N/m)$, $c_s = 877.60(Ns/m)$,<br>\n",
    "&ensp;&ensp;&ensp;$n_b=9$&ensp;,$\\alpha = 0(rad)$,$k_b = 1.8978\\times10^{10}(N/m^{1.5})$,$\\omega_s = 20\\pi(rad)$,<br>\n",
    "&ensp;&ensp;&ensp;$dt = 1/25600(s)$,$\\phi_{slip} = 0$,$C_d = 1.91\\times10^{-5}(m)$,$rand = 0 $,<br>\n",
    "&ensp;&ensp;&ensp;$\\phi_{d}=0(rad)$,$\\triangle\\phi_{d}=0.0192(rad)$ ,$D_b = 7.94\\times10^{-3}(m)$,$D_p = 39.04\\times10^{-3}(m)$,<br>\n",
    "&ensp;&ensp;&ensp;将变量带入重构函数。\n"
   ]
  },
  {
   "cell_type": "code",
   "execution_count": 1,
   "metadata": {},
   "outputs": [],
   "source": [
    "import sympy as sp\n",
    "from IPython.display import display, Latex\n",
    "import math\n",
    "sp.init_printing(use_unicode=True)"
   ]
  },
  {
   "cell_type": "code",
   "execution_count": 2,
   "metadata": {},
   "outputs": [
    {
     "data": {
      "text/latex": [
       "$$ \\phi_j=  0.349065844444444 j + 25.0265189190574 t - 0.349065844444444$$"
      ],
      "text/plain": [
       "<IPython.core.display.Latex object>"
      ]
     },
     "execution_count": 2,
     "metadata": {},
     "output_type": "execute_result"
    }
   ],
   "source": [
    "j,n_b,omega_c,d_t,D_p,D_b,omega_s,phi_j,phi_silp,rand= sp.symbols('j n_b omega_c dt D_p D_b omega_s phi_j phi_silp rand')\n",
    "phi_d,phi_j,phi_jsub,t = sp.symbols('phi_d phi_j phi_jsub t')\n",
    "omega_c = (D_p-D_b)*omega_s/(2*D_p)\n",
    "phi_j = (3.1415926*(j-1))/n_b + omega_c*t +phi_d +(0.5-rand)*phi_silp\n",
    "phi_j_s = phi_j.subs([(phi_d , 0),(phi_silp , 0),(rand , 0),(n_b,9),(D_p,39.04*10**(-3)),(D_b,7.94*10**(-3)),(omega_s,20*3.1415926)])\n",
    "Latex(f\"$$ \\\\phi_j=  {sp.latex(phi_j_s)}$$\")"
   ]
  },
  {
   "cell_type": "code",
   "execution_count": 3,
   "metadata": {},
   "outputs": [
    {
     "data": {
      "text/latex": [
       "$$ \\beta_j = \\begin{cases} 1 & \\text{for}\\: 0.349065844444444 j + 25.0265189190574 t - 0.349065844444444 > 0 \\wedge 0.349065844444444 j + 25.0265189190574 t - 0.349065844444444 < 0.0192 \\\\0 & \\text{otherwise} \\end{cases}$$"
      ],
      "text/plain": [
       "<IPython.core.display.Latex object>"
      ]
     },
     "metadata": {},
     "output_type": "display_data"
    }
   ],
   "source": [
    "beta_j = sp.Piecewise(\n",
    "                (1,((phi_d<phi_j_s)&(phi_j_s<(phi_d+phi_jsub)))),\n",
    "                (0,True)\n",
    "                )\n",
    "beta_j_s = beta_j.subs([(phi_d , 0),(phi_jsub , 0.0192)])\n",
    "display(Latex(f\"$$ \\\\beta_j = {sp.latex(beta_j_s)}$$\"))"
   ]
  },
  {
   "cell_type": "code",
   "execution_count": 4,
   "metadata": {},
   "outputs": [
    {
     "data": {
      "text/latex": [
       "$$ \\delta_j =  \\left(- x_{p} + x_{s}\\right) \\cos{\\left(0.349065844444444 j + 25.0265189190574 t - 0.349065844444444 \\right)} + \\left(- y_{p} + y_{s}\\right) \\sin{\\left(0.349065844444444 j + 25.0265189190574 t - 0.349065844444444 \\right)} - 0.0005 \\left(\\begin{cases} 1 & \\text{for}\\: 0.349065844444444 j + 25.0265189190574 t - 0.349065844444444 > 0 \\wedge 0.349065844444444 j + 25.0265189190574 t - 0.349065844444444 < 0.0192 \\\\0 & \\text{otherwise} \\end{cases}\\right) - 5.0 \\cdot 10^{-6}$$"
      ],
      "text/plain": [
       "<IPython.core.display.Latex object>"
      ]
     },
     "metadata": {},
     "output_type": "display_data"
    }
   ],
   "source": [
    "c,C_d,x_s,x_p,y_s,y_p = sp.symbols('c C_d x_s x_p y_s y_p')\n",
    "delta_j   = (x_s-x_p)*sp.cos(phi_j_s)+(y_s-y_p)*sp.sin(phi_j_s)-c-beta_j_s*C_d\n",
    "delta_j_s = delta_j.subs([(c,5*10**(-6)),(C_d,5*10**(-4))])\n",
    "display(Latex(f\"$$ \\\\delta_j =  {sp.latex(delta_j_s)}$$\"))"
   ]
  },
  {
   "cell_type": "code",
   "execution_count": 5,
   "metadata": {},
   "outputs": [
    {
     "data": {
      "text/latex": [
       "$$ \\gamma_j=  \\begin{cases} \\left(\\left(- x_{p} + x_{s}\\right) \\cos{\\left(0.349065844444444 j + 25.0265189190574 t - 0.349065844444444 \\right)} + \\left(- y_{p} + y_{s}\\right) \\sin{\\left(0.349065844444444 j + 25.0265189190574 t - 0.349065844444444 \\right)} - 0.0005 \\left(\\begin{cases} 1 & \\text{for}\\: 0.349065844444444 j + 25.0265189190574 t - 0.349065844444444 > 0 \\wedge 0.349065844444444 j + 25.0265189190574 t - 0.349065844444444 < 0.0192 \\\\0 & \\text{otherwise} \\end{cases}\\right) - 5.0 \\cdot 10^{-6}\\right)^{1.5} & \\text{for}\\: ITE\\left(0.349065844444444 j + 25.0265189190574 t - 0.349065844444444 > 0 \\wedge 0.349065844444444 j + 25.0265189190574 t - 0.349065844444444 < 0.0192, \\left(- x_{p} + x_{s}\\right) \\cos{\\left(0.349065844444444 j + 25.0265189190574 t - 0.349065844444444 \\right)} + \\left(- y_{p} + y_{s}\\right) \\sin{\\left(0.349065844444444 j + 25.0265189190574 t - 0.349065844444444 \\right)} - 0.000505 > 0, \\left(- x_{p} + x_{s}\\right) \\cos{\\left(0.349065844444444 j + 25.0265189190574 t - 0.349065844444444 \\right)} + \\left(- y_{p} + y_{s}\\right) \\sin{\\left(0.349065844444444 j + 25.0265189190574 t - 0.349065844444444 \\right)} - 5.0 \\cdot 10^{-6} > 0\\right) \\\\0 & \\text{otherwise} \\end{cases}$$"
      ],
      "text/plain": [
       "<IPython.core.display.Latex object>"
      ]
     },
     "metadata": {},
     "output_type": "display_data"
    }
   ],
   "source": [
    "f_gamma_delta_j_s = sp.Piecewise(\n",
    "                (delta_j_s**(1.5),delta_j_s>0),\n",
    "                (0,True)\n",
    "                )\n",
    "display(Latex(f\"$$ \\\\gamma_j=  {sp.latex(f_gamma_delta_j_s)}$$\"))"
   ]
  },
  {
   "cell_type": "code",
   "execution_count": 6,
   "metadata": {},
   "outputs": [
    {
     "data": {
      "text/latex": [
       "$$ F_x =  18978000000.0 \\sum_{j=1}^{9} \\begin{cases} \\left(\\left(- x_{p} + x_{s}\\right) \\cos{\\left(0.349065844444444 j + 25.0265189190574 t - 0.349065844444444 \\right)} + \\left(- y_{p} + y_{s}\\right) \\sin{\\left(0.349065844444444 j + 25.0265189190574 t - 0.349065844444444 \\right)} - 0.000505\\right)^{1.5} \\cos{\\left(0.349065844444444 j + 25.0265189190574 t - 0.349065844444444 \\right)} & \\text{for}\\: \\left(0.349065844444444 j + 25.0265189190574 t > 0.349065844444444 \\vee \\left(- x_{p} + x_{s}\\right) \\cos{\\left(0.349065844444444 j + 25.0265189190574 t - 0.349065844444444 \\right)} + \\left(- y_{p} + y_{s}\\right) \\sin{\\left(0.349065844444444 j + 25.0265189190574 t - 0.349065844444444 \\right)} - 5.0 \\cdot 10^{-6} > 0\\right) \\wedge \\left(\\left(- x_{p} + x_{s}\\right) \\cos{\\left(0.349065844444444 j + 25.0265189190574 t - 0.349065844444444 \\right)} + \\left(- y_{p} + y_{s}\\right) \\sin{\\left(0.349065844444444 j + 25.0265189190574 t - 0.349065844444444 \\right)} - 5.0 \\cdot 10^{-6} > 0 \\vee 0.349065844444444 j + 25.0265189190574 t < 0.368265844444444\\right) \\wedge \\left(0.349065844444444 j + 25.0265189190574 t \\geq 0.368265844444444 \\vee 0.349065844444444 j + 25.0265189190574 t \\leq 0.349065844444444 \\vee \\left(- x_{p} + x_{s}\\right) \\cos{\\left(0.349065844444444 j + 25.0265189190574 t - 0.349065844444444 \\right)} + \\left(- y_{p} + y_{s}\\right) \\sin{\\left(0.349065844444444 j + 25.0265189190574 t - 0.349065844444444 \\right)} - 0.000505 > 0\\right) \\wedge 0.349065844444444 j + 25.0265189190574 t - 0.349065844444444 > 0 \\wedge 0.349065844444444 j + 25.0265189190574 t - 0.349065844444444 < 0.0192 \\\\\\left(\\left(- x_{p} + x_{s}\\right) \\cos{\\left(0.349065844444444 j + 25.0265189190574 t - 0.349065844444444 \\right)} + \\left(- y_{p} + y_{s}\\right) \\sin{\\left(0.349065844444444 j + 25.0265189190574 t - 0.349065844444444 \\right)} - 5.0 \\cdot 10^{-6}\\right)^{1.5} \\cos{\\left(0.349065844444444 j + 25.0265189190574 t - 0.349065844444444 \\right)} & \\text{for}\\: \\left(0.349065844444444 j + 25.0265189190574 t > 0.349065844444444 \\vee \\left(- x_{p} + x_{s}\\right) \\cos{\\left(0.349065844444444 j + 25.0265189190574 t - 0.349065844444444 \\right)} + \\left(- y_{p} + y_{s}\\right) \\sin{\\left(0.349065844444444 j + 25.0265189190574 t - 0.349065844444444 \\right)} - 5.0 \\cdot 10^{-6} > 0\\right) \\wedge \\left(\\left(- x_{p} + x_{s}\\right) \\cos{\\left(0.349065844444444 j + 25.0265189190574 t - 0.349065844444444 \\right)} + \\left(- y_{p} + y_{s}\\right) \\sin{\\left(0.349065844444444 j + 25.0265189190574 t - 0.349065844444444 \\right)} - 5.0 \\cdot 10^{-6} > 0 \\vee 0.349065844444444 j + 25.0265189190574 t < 0.368265844444444\\right) \\wedge \\left(0.349065844444444 j + 25.0265189190574 t \\geq 0.368265844444444 \\vee 0.349065844444444 j + 25.0265189190574 t \\leq 0.349065844444444 \\vee \\left(- x_{p} + x_{s}\\right) \\cos{\\left(0.349065844444444 j + 25.0265189190574 t - 0.349065844444444 \\right)} + \\left(- y_{p} + y_{s}\\right) \\sin{\\left(0.349065844444444 j + 25.0265189190574 t - 0.349065844444444 \\right)} - 0.000505 > 0\\right) \\\\0 & \\text{otherwise} \\end{cases}$$"
      ],
      "text/plain": [
       "<IPython.core.display.Latex object>"
      ]
     },
     "metadata": {},
     "output_type": "display_data"
    }
   ],
   "source": [
    "k_b= 1.8978*10**10\n",
    "f_x = k_b*sp.summation(f_gamma_delta_j_s*sp.cos(phi_j_s),(j,1,n_b))\n",
    "f_x_s = f_x.subs([(n_b,9)])\n",
    "display(Latex(f\"$$ F_x =  {sp.latex(f_x_s )}$$\"))"
   ]
  },
  {
   "cell_type": "code",
   "execution_count": 7,
   "metadata": {},
   "outputs": [
    {
     "data": {
      "text/latex": [
       "$$ F_y =  18978000000.0 \\sum_{j=1}^{9} \\begin{cases} \\left(\\left(- x_{p} + x_{s}\\right) \\cos{\\left(0.349065844444444 j + 25.0265189190574 t - 0.349065844444444 \\right)} + \\left(- y_{p} + y_{s}\\right) \\sin{\\left(0.349065844444444 j + 25.0265189190574 t - 0.349065844444444 \\right)} - 0.000505\\right)^{1.5} \\sin{\\left(0.349065844444444 j + 25.0265189190574 t - 0.349065844444444 \\right)} & \\text{for}\\: \\left(0.349065844444444 j + 25.0265189190574 t > 0.349065844444444 \\vee \\left(- x_{p} + x_{s}\\right) \\cos{\\left(0.349065844444444 j + 25.0265189190574 t - 0.349065844444444 \\right)} + \\left(- y_{p} + y_{s}\\right) \\sin{\\left(0.349065844444444 j + 25.0265189190574 t - 0.349065844444444 \\right)} - 5.0 \\cdot 10^{-6} > 0\\right) \\wedge \\left(\\left(- x_{p} + x_{s}\\right) \\cos{\\left(0.349065844444444 j + 25.0265189190574 t - 0.349065844444444 \\right)} + \\left(- y_{p} + y_{s}\\right) \\sin{\\left(0.349065844444444 j + 25.0265189190574 t - 0.349065844444444 \\right)} - 5.0 \\cdot 10^{-6} > 0 \\vee 0.349065844444444 j + 25.0265189190574 t < 0.368265844444444\\right) \\wedge \\left(0.349065844444444 j + 25.0265189190574 t \\geq 0.368265844444444 \\vee 0.349065844444444 j + 25.0265189190574 t \\leq 0.349065844444444 \\vee \\left(- x_{p} + x_{s}\\right) \\cos{\\left(0.349065844444444 j + 25.0265189190574 t - 0.349065844444444 \\right)} + \\left(- y_{p} + y_{s}\\right) \\sin{\\left(0.349065844444444 j + 25.0265189190574 t - 0.349065844444444 \\right)} - 0.000505 > 0\\right) \\wedge 0.349065844444444 j + 25.0265189190574 t - 0.349065844444444 > 0 \\wedge 0.349065844444444 j + 25.0265189190574 t - 0.349065844444444 < 0.0192 \\\\\\left(\\left(- x_{p} + x_{s}\\right) \\cos{\\left(0.349065844444444 j + 25.0265189190574 t - 0.349065844444444 \\right)} + \\left(- y_{p} + y_{s}\\right) \\sin{\\left(0.349065844444444 j + 25.0265189190574 t - 0.349065844444444 \\right)} - 5.0 \\cdot 10^{-6}\\right)^{1.5} \\sin{\\left(0.349065844444444 j + 25.0265189190574 t - 0.349065844444444 \\right)} & \\text{for}\\: \\left(0.349065844444444 j + 25.0265189190574 t > 0.349065844444444 \\vee \\left(- x_{p} + x_{s}\\right) \\cos{\\left(0.349065844444444 j + 25.0265189190574 t - 0.349065844444444 \\right)} + \\left(- y_{p} + y_{s}\\right) \\sin{\\left(0.349065844444444 j + 25.0265189190574 t - 0.349065844444444 \\right)} - 5.0 \\cdot 10^{-6} > 0\\right) \\wedge \\left(\\left(- x_{p} + x_{s}\\right) \\cos{\\left(0.349065844444444 j + 25.0265189190574 t - 0.349065844444444 \\right)} + \\left(- y_{p} + y_{s}\\right) \\sin{\\left(0.349065844444444 j + 25.0265189190574 t - 0.349065844444444 \\right)} - 5.0 \\cdot 10^{-6} > 0 \\vee 0.349065844444444 j + 25.0265189190574 t < 0.368265844444444\\right) \\wedge \\left(0.349065844444444 j + 25.0265189190574 t \\geq 0.368265844444444 \\vee 0.349065844444444 j + 25.0265189190574 t \\leq 0.349065844444444 \\vee \\left(- x_{p} + x_{s}\\right) \\cos{\\left(0.349065844444444 j + 25.0265189190574 t - 0.349065844444444 \\right)} + \\left(- y_{p} + y_{s}\\right) \\sin{\\left(0.349065844444444 j + 25.0265189190574 t - 0.349065844444444 \\right)} - 0.000505 > 0\\right) \\\\0 & \\text{otherwise} \\end{cases}$$"
      ],
      "text/plain": [
       "<IPython.core.display.Latex object>"
      ]
     },
     "metadata": {},
     "output_type": "display_data"
    }
   ],
   "source": [
    "f_y = k_b*sp.summation(f_gamma_delta_j_s*sp.sin(phi_j_s),(j,1,n_b))\n",
    "f_y_s = f_y.subs([(n_b,9)])\n",
    "display(Latex(f\"$$ F_y =  {sp.latex(f_y_s)}$$\"))\n",
    "f_delta_j = sp.lambdify([x_p,y_p,x_s,y_s,j,t],delta_j_s)\n",
    "f_phi_j_s = sp.lambdify([j,t],phi_j_s)"
   ]
  },
  {
   "cell_type": "markdown",
   "metadata": {},
   "source": [
    "## 数值求解"
   ]
  },
  {
   "cell_type": "markdown",
   "metadata": {},
   "source": [
    "微分方程的形式非常复杂，故而退而求其次，选择数值解。从julia中导入数值解求解方法DifferentialEquations"
   ]
  },
  {
   "cell_type": "code",
   "execution_count": 8,
   "metadata": {},
   "outputs": [],
   "source": [
    "import diffeqpy as de\n",
    "from diffeqpy import de\n",
    "import numpy\n",
    "from julia import Main\n",
    "from julia import DifferentialEquations\n",
    "from julia import Sundials\n",
    "import matplotlib.pyplot as plt"
   ]
  },
  {
   "cell_type": "markdown",
   "metadata": {},
   "source": [
    "&ensp;&ensp;&ensp;按照前述公式[(1-5)](#link_function1)，构建完全体微分方程，并且二阶导数以一阶导数联合方程形式表述：<br>\n",
    "&ensp;&ensp;&ensp;符号对应关系为：<br>&ensp;&ensp;&ensp;&ensp;&ensp;&ensp;&ensp;&ensp;&ensp;$x_s\\rightarrow {u[0]} $,$y_s\\rightarrow {u[1]} $,$x_p\\rightarrow {u[2]} $,$y_p\\rightarrow {u[3]} $,$y_b\\rightarrow {u[4]} $<br>\n",
    "&ensp;&ensp;&ensp;&ensp;&ensp;&ensp;&ensp;&ensp;&ensp;${ \\dot x_s }\\rightarrow {u[5]} $,${ \\dot y_s }\\rightarrow {u[6]} $,${ \\dot x_p }\\rightarrow {u[7]} $,${ \\dot y_p }\\rightarrow {u[8]} $,${ \\dot y_b }\\rightarrow {u[9]} $<br>"
   ]
  },
  {
   "cell_type": "code",
   "execution_count": 9,
   "metadata": {},
   "outputs": [],
   "source": [
    "def Fault_bearing(du,u,p,t):\n",
    "    k_s,k_p,k_r,c_p,c_r,m_s,m_p,m_r = [4.24100*10**4,1.51056*10**7,8.88260*10**9,2210.7,9424.8,0.5134,12.638,1.0000]\n",
    "    du[0] = u[5]  \n",
    "    du[1] = u[6] \n",
    "    du[2] = u[7] \n",
    "    du[3] = u[8]\n",
    "    du[4] = u[9]\n",
    "    du[5] = (-k_s*u[0] - p(u,t,True))/m_s\n",
    "    du[6] = (-k_s*u[1] - p(u,t,False))/m_s\n",
    "    du[7] = (-k_p*u[2] - c_p*u[7] + p(u,t,True))/m_p\n",
    "    du[8] = (-(k_p+k_r)*u[3] - (c_p+c_r)*u[8] + p(u,t,False) + k_r*u[4])/m_p\n",
    "    du[9] = (-k_s*(u[4]-u[3]) - c_r*(u[9]-u[8]) )/m_r"
   ]
  },
  {
   "cell_type": "markdown",
   "metadata": {},
   "source": [
    "&ensp;&ensp;&ensp;将作用力函数F引入。"
   ]
  },
  {
   "cell_type": "code",
   "execution_count": 10,
   "metadata": {},
   "outputs": [],
   "source": [
    "def F(u,t,flag):\n",
    "    n_b = 9\n",
    "    x_s = u[0]\n",
    "    y_s = u[1]\n",
    "    x_p = u[2]\n",
    "    y_p = u[3]\n",
    "    f_sum = 0\n",
    "    for i in range(n_b):\n",
    "        delta_i = f_delta_j(x_p,y_p,x_s,y_s,i,t)\n",
    "        phi_i = f_phi_j_s(i,t)\n",
    "        if flag == True:\n",
    "            if delta_i > 0:\n",
    "                f_sum = delta_i**(1.5)*math.cos(phi_i)\n",
    "        else:\n",
    "            if delta_i > 0:\n",
    "                f_sum = delta_i**(1.5)*math.sin(phi_i)\n",
    "    return 1.8978*10**10*f_sum"
   ]
  },
  {
   "cell_type": "markdown",
   "metadata": {},
   "source": [
    "&ensp;&ensp;&ensp;对初始值进行设定，初步设定初始值均为0。"
   ]
  },
  {
   "cell_type": "code",
   "execution_count": 11,
   "metadata": {},
   "outputs": [],
   "source": [
    "u_0 = [0.0001,-0.0001,-0.0001,0.0001,0.0,0.0,0.0,0.0,0.0,0.0]\n",
    "tspan = [0.0,1.0]\n",
    "prob = DifferentialEquations.ODEProblem(Fault_bearing,u_0,tspan,F)\n",
    "sol = DifferentialEquations.solve(prob)"
   ]
  },
  {
   "cell_type": "markdown",
   "metadata": {},
   "source": [
    "加速度信号的全局模拟视图为："
   ]
  },
  {
   "cell_type": "code",
   "execution_count": 37,
   "metadata": {},
   "outputs": [
    {
     "data": {
      "image/png": "[encoded data removed]",
      "text/plain": [
       "<Figure size 432x288 with 1 Axes>"
      ]
     },
     "metadata": {
      "needs_background": "light"
     },
     "output_type": "display_data"
    }
   ],
   "source": [
    "t = numpy.array(sol.t)\n",
    "v_b = numpy.array(sol.u)[:,9].copy()\n",
    "a_b = numpy.gradient(v_b)\n",
    "plt.plot(t,a_b)\n",
    "plt.xlabel('Time (s)'), plt.ylabel('Amp(m/s^2)')\n",
    "plt.show()"
   ]
  },
  {
   "cell_type": "markdown",
   "metadata": {},
   "source": [
    "加速度信号的全局局部视图为,两次冲激脉冲的时间间隔约为0.012s，其对应BPFO为81Hz，仿真信号结果真实度较高："
   ]
  },
  {
   "cell_type": "code",
   "execution_count": 38,
   "metadata": {},
   "outputs": [
    {
     "data": {
      "image/png": "[encoded data removed]",
      "text/plain": [
       "<Figure size 432x288 with 1 Axes>"
      ]
     },
     "metadata": {
      "needs_background": "light"
     },
     "output_type": "display_data"
    },
    {
     "data": {
      "image/png": "[encoded data removed]",
      "text/plain": [
       "<Figure size 432x288 with 1 Axes>"
      ]
     },
     "metadata": {
      "needs_background": "light"
     },
     "output_type": "display_data"
    }
   ],
   "source": [
    "plt.plot(t[27000:33000],a_b[27000:33000])\n",
    "plt.xlabel('Time (s)'), plt.ylabel('Amp(m/s^2)')\n",
    "plt.show()\n",
    "plt.plot(t[29000:31000],a_b[29000:31000])\n",
    "plt.xlabel('Time (s)'), plt.ylabel('Amp(m/s^2)')\n",
    "plt.show()"
   ]
  },
  {
   "cell_type": "markdown",
   "metadata": {},
   "source": [
    "加速度信号的频谱图为,同样在BPFO倍频初有峰值："
   ]
  },
  {
   "cell_type": "code",
   "execution_count": 47,
   "metadata": {},
   "outputs": [
    {
     "data": {
      "image/png": "[encoded data removed]",
      "text/plain": [
       "<Figure size 432x288 with 1 Axes>"
      ]
     },
     "metadata": {
      "needs_background": "light"
     },
     "output_type": "display_data"
    }
   ],
   "source": [
    "from numpy.fft import fft,ifft\n",
    "def show(x, ft, time_span = 1):\n",
    "    n = len(x)                                 # 采样点个数\n",
    "    interval = time_span / n\n",
    "    frequency = numpy.arange(n / 2) / (n * interval)\n",
    "    nfft = abs(ft[range(int(n / 2))] / n )**2\n",
    "    plt.plot(frequency[400:2200], nfft[400:2200], 'red')\n",
    "    plt.xlabel('Freq (Hz)'), plt.ylabel('Amp. Spectrum')\n",
    "    #plt.show()\n",
    "    plt.show()\n",
    "y = numpy.fft.fftn(a_b)                              # 频域信号\n",
    "show(a_b, y, 5)"
   ]
  },
  {
   "cell_type": "markdown",
   "metadata": {},
   "source": [
    "# Reference:\n",
    "<a id = \"link_ref1\">[1]</a> [N. Sawalhi and R. B. Randall, \"Simulating gear and bearing interactions in the presence of faults,\" \n",
    "*Mechanical Systems and Signal Processing*\n",
    ", vol. 22, no. 8, pp. 1924-1951, 2008.](https://www.sciencedirect.com/science/article/pii/S0888327007002725?via%3Dihub)\n",
    "\n"
   ]
  },
  {
   "cell_type": "code",
   "execution_count": null,
   "metadata": {},
   "outputs": [],
   "source": []
  },
  {
   "cell_type": "code",
   "execution_count": null,
   "metadata": {},
   "outputs": [],
   "source": []
  }
 ],
 "metadata": {
  "kernelspec": {
   "display_name": "Python [conda env:root] *",
   "language": "python",
   "name": "conda-root-py"
  },
  "language_info": {
   "codemirror_mode": {
    "name": "ipython",
    "version": 3
   },
   "file_extension": ".py",
   "mimetype": "text/x-python",
   "name": "python",
   "nbconvert_exporter": "python",
   "pygments_lexer": "ipython3",
   "version": "3.7.4"
  }
 },
 "nbformat": 4,
 "nbformat_minor": 4
}
